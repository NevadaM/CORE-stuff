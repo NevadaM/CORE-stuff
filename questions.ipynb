{
 "cells": [
  {
   "cell_type": "code",
   "execution_count": 3,
   "metadata": {},
   "outputs": [
    {
     "data": {
      "application/vnd.jupyter.widget-view+json": {
       "model_id": "c57e5dc947db46a899bc5d7dde89c385",
       "version_major": 2,
       "version_minor": 0
      },
      "text/plain": [
       "HTML(value='<style>\\n    .widget-label { min-width: min-content !important; }\\n</style>')"
      ]
     },
     "metadata": {},
     "output_type": "display_data"
    }
   ],
   "source": [
    "import ipywidgets as widgets\n",
    "import pandas as pd\n",
    "df = pd.read_excel('questionsexcel.xlsx', index_col='id').iloc[:1]\n",
    "\n",
    "display(widgets.HTML('''<style>\n",
    "    .widget-label { min-width: min-content !important; }\n",
    "</style>'''))\n",
    "\n",
    "style = {'description_width': 'initial'}"
   ]
  },
  {
   "cell_type": "code",
   "execution_count": 4,
   "metadata": {},
   "outputs": [
    {
     "data": {
      "text/html": [
       "<div>\n",
       "<style scoped>\n",
       "    .dataframe tbody tr th:only-of-type {\n",
       "        vertical-align: middle;\n",
       "    }\n",
       "\n",
       "    .dataframe tbody tr th {\n",
       "        vertical-align: top;\n",
       "    }\n",
       "\n",
       "    .dataframe thead th {\n",
       "        text-align: right;\n",
       "    }\n",
       "</style>\n",
       "<table border=\"1\" class=\"dataframe\">\n",
       "  <thead>\n",
       "    <tr style=\"text-align: right;\">\n",
       "      <th></th>\n",
       "      <th>question</th>\n",
       "      <th>c1</th>\n",
       "      <th>c2</th>\n",
       "      <th>c3</th>\n",
       "      <th>a1</th>\n",
       "      <th>a2</th>\n",
       "      <th>a3</th>\n",
       "      <th>message1</th>\n",
       "      <th>message2</th>\n",
       "      <th>message3</th>\n",
       "    </tr>\n",
       "    <tr>\n",
       "      <th>id</th>\n",
       "      <th></th>\n",
       "      <th></th>\n",
       "      <th></th>\n",
       "      <th></th>\n",
       "      <th></th>\n",
       "      <th></th>\n",
       "      <th></th>\n",
       "      <th></th>\n",
       "      <th></th>\n",
       "      <th></th>\n",
       "    </tr>\n",
       "  </thead>\n",
       "  <tbody>\n",
       "    <tr>\n",
       "      <th>q1</th>\n",
       "      <td>Which of the following statements is/are true?</td>\n",
       "      <td>The inflation shock shifts the Phillips curve ...</td>\n",
       "      <td>According to the 3-equation model, if inflatio...</td>\n",
       "      <td>Inflation decreases when the central bank incr...</td>\n",
       "      <td>True</td>\n",
       "      <td>False</td>\n",
       "      <td>False</td>\n",
       "      <td>True: The term inflation shock is used to refe...</td>\n",
       "      <td>False: The central bank needs to increase the ...</td>\n",
       "      <td>False: Inflation decreases if the nominal inte...</td>\n",
       "    </tr>\n",
       "  </tbody>\n",
       "</table>\n",
       "</div>"
      ],
      "text/plain": [
       "                                          question  \\\n",
       "id                                                   \n",
       "q1  Which of the following statements is/are true?   \n",
       "\n",
       "                                                   c1  \\\n",
       "id                                                      \n",
       "q1  The inflation shock shifts the Phillips curve ...   \n",
       "\n",
       "                                                   c2  \\\n",
       "id                                                      \n",
       "q1  According to the 3-equation model, if inflatio...   \n",
       "\n",
       "                                                   c3    a1     a2     a3  \\\n",
       "id                                                                          \n",
       "q1  Inflation decreases when the central bank incr...  True  False  False   \n",
       "\n",
       "                                             message1  \\\n",
       "id                                                      \n",
       "q1  True: The term inflation shock is used to refe...   \n",
       "\n",
       "                                             message2  \\\n",
       "id                                                      \n",
       "q1  False: The central bank needs to increase the ...   \n",
       "\n",
       "                                             message3  \n",
       "id                                                     \n",
       "q1  False: Inflation decreases if the nominal inte...  "
      ]
     },
     "execution_count": 4,
     "metadata": {},
     "output_type": "execute_result"
    }
   ],
   "source": [
    "df.head()"
   ]
  },
  {
   "cell_type": "code",
   "execution_count": 5,
   "metadata": {},
   "outputs": [
    {
     "data": {
      "text/plain": [
       "1"
      ]
     },
     "execution_count": 5,
     "metadata": {},
     "output_type": "execute_result"
    }
   ],
   "source": [
    "len(df)"
   ]
  },
  {
   "cell_type": "code",
   "execution_count": 37,
   "metadata": {},
   "outputs": [
    {
     "data": {
      "application/vnd.jupyter.widget-view+json": {
       "model_id": "723e586f9c7049f2bda266dced106b4d",
       "version_major": 2,
       "version_minor": 0
      },
      "text/plain": [
       "Output(layout=Layout(border='2px solid gray', margin='0 0 0 0', padding='5px 5px 5px 5px'))"
      ]
     },
     "metadata": {},
     "output_type": "display_data"
    }
   ],
   "source": [
    "qout2 = widgets.Output(layout={'border': '2px solid gray', 'padding': '5px 5px 5px 5px', 'margin': '0 0 0 0'})\n",
    "qout2"
   ]
  },
  {
   "cell_type": "code",
   "execution_count": 39,
   "metadata": {},
   "outputs": [],
   "source": [
    "df2 = pd.read_excel('questionsexcel.xlsx', index_col='id').iloc[2].to_frame().transpose()\n",
    "qs2 = {}\n",
    "ans2 = {}\n",
    "msgs2 = {}\n",
    "\n",
    "for i in df2.index:\n",
    "    qs2[i] = [df2.loc[i]['question'], df2.loc[i]['c1'], df2.loc[i]['c2'], df2.loc[i]['c3']]\n",
    "    ans2[i] = [df2.loc[i]['a1'], df2.loc[i]['a2'], df2.loc[i]['a3']]\n",
    "    msgs2[i] = [df2.loc[i]['message1'], df2.loc[i]['message2'], df2.loc[i]['message3']]\n",
    "\n",
    "wlist2 = {}\n",
    "for q in qs2:\n",
    "    wlist2[q] = [qs2[q][0]]\n",
    "    for i in range(1, 4):\n",
    "        wlist2[q].append(widgets.Checkbox(description=qs2[q][i], style=style, layout=widgets.Layout(min_width='min-content')))\n",
    "\n",
    "qout2.clear_output()\n",
    "sub2 = widgets.Button(description='Check my answers')\n",
    "tryagain2 = widgets.Button(description='Try Again')\n",
    "\n",
    "\n",
    "with qout2:\n",
    "    for q in wlist2:\n",
    "        display(widgets.HTML(value=f'<h4>{wlist2[q][0]}</h4>'))\n",
    "        for i in wlist2[q][1:]:\n",
    "            display(i)\n",
    "        print()\n",
    "    display(sub2)\n",
    "\n",
    "\n",
    "def on_sub2(b):\n",
    "    global ans2\n",
    "    global msgs2\n",
    "    qout2.clear_output(wait=True)\n",
    "    messages = {}\n",
    "    correct = [None, None, None]\n",
    "    answers = []\n",
    "    for q in wlist2:\n",
    "        messages[q] = []\n",
    "        for i in wlist2[q][1:]:\n",
    "            answer = i.value\n",
    "            answers.append(answer)\n",
    "        for i in range(1, 4):\n",
    "            answer = wlist2[q][i].value\n",
    "            if answer == ans2[q][i-1]:\n",
    "                messages[q].append(msgs2[q][i-1])\n",
    "                correct[i-1] = True\n",
    "            elif answer != ans2[q][i-1]:\n",
    "                messages[q].append(msgs2[q][i-1])\n",
    "                correct[i-1] = False    \n",
    "    with qout2:\n",
    "        # print('sub2mitted')\n",
    "        for q in wlist2:\n",
    "            display(widgets.HTML(value=f'<h3>{wlist2[q][0]}</h3>'))\n",
    "            for i in range(1, 4):\n",
    "                display(wlist2[q][i])\n",
    "                # if messages[q][i-1][0] == 'CORRECT':\n",
    "                #     display(widgets.HTML(f'<div style=\"background-color: rgb(161, 230, 161); max-width: fit-content;\"><p><div style=\"font-weight: bold; color: green\">{messages[q][i-1][0]}</div>{messages[q][i-1][1]}</p></div>'))\n",
    "                # else:\n",
    "                #     display(widgets.HTML(f'<div style=\"background-color: rgb(231, 151, 151); max-width: fit-content;\"><p><div style=\"font-weight: bold; color: red\">{messages[q][i-1][0]}</div>{messages[q][i-1][1]}</p></div>'))\n",
    "            # print(messages[q])\n",
    "            for i in range(3):\n",
    "                if correct[i] == False:\n",
    "                    if ans2[q][i] == True:\n",
    "                        #user did not select, but answer is True\n",
    "                        notall = True\n",
    "                    else:\n",
    "                        #user chose true, answer is false\n",
    "                        notall = False\n",
    "                        break\n",
    "            if correct == [True, True, True]:\n",
    "                # display(widgets.HTML(f'<div style=\"background-color: rgb(161, 230, 161); max-width: fit-content;\"><p>CORRECT</p><p>{messages[q]}</p></div>'))\n",
    "                display(widgets.HTML(f'<p style=\"font-weight: bold; color: green\">CORRECT</p>'))\n",
    "                for i in range(3):\n",
    "                    if ans2[q][i] == True:\n",
    "                        display(widgets.HTML(f'<p>{messages[q][i]}</p>'))\n",
    "            elif notall:\n",
    "                display(widgets.HTML(f'<p style=\"font-weight: bold;\">You haven\\'t selected all the correct answers</p>'))\n",
    "            else:\n",
    "                # display(widgets.HTML(f'<div style=\"background-color: rgb(231, 151, 151); max-width: fit-content;\"><p>INCORRECT</p>'))\n",
    "                display(widgets.HTML(f'<p style=\"font-weight: bold; color: red\">INCORRECT</p>'))\n",
    "                for i in range(3):\n",
    "                    if correct[i] == False and ans2[q][i] == False:\n",
    "                        display(widgets.HTML(f'<p>{messages[q][i]}</p>'))\n",
    "\n",
    "                # display(widgets.HTML('</div>'))\n",
    "        display(tryagain2)\n",
    "        \n",
    "\n",
    "sub2.on_click(on_sub2)\n",
    "tryagain2.on_click(on_sub2)"
   ]
  },
  {
   "cell_type": "code",
   "execution_count": 25,
   "metadata": {},
   "outputs": [
    {
     "data": {
      "text/plain": [
       "{'q2': [False, True, True]}"
      ]
     },
     "execution_count": 25,
     "metadata": {},
     "output_type": "execute_result"
    }
   ],
   "source": [
    "ans2"
   ]
  },
  {
   "cell_type": "code",
   "execution_count": null,
   "metadata": {},
   "outputs": [],
   "source": []
  }
 ],
 "metadata": {
  "kernelspec": {
   "display_name": "Python 3.9.6 64-bit",
   "language": "python",
   "name": "python3"
  },
  "language_info": {
   "codemirror_mode": {
    "name": "ipython",
    "version": 3
   },
   "file_extension": ".py",
   "mimetype": "text/x-python",
   "name": "python",
   "nbconvert_exporter": "python",
   "pygments_lexer": "ipython3",
   "version": "3.9.6"
  },
  "orig_nbformat": 4,
  "vscode": {
   "interpreter": {
    "hash": "2357eebbfc55f7d9fdf64c15a4b3c374b9e372aa3c4f8ecba863e07056cff31d"
   }
  }
 },
 "nbformat": 4,
 "nbformat_minor": 2
}
