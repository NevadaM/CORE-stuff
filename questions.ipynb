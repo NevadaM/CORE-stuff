{
 "cells": [
  {
   "cell_type": "code",
   "execution_count": 24,
   "metadata": {},
   "outputs": [],
   "source": [
    "import ipywidgets as widgets"
   ]
  },
  {
   "cell_type": "code",
   "execution_count": 25,
   "metadata": {},
   "outputs": [
    {
     "data": {
      "application/vnd.jupyter.widget-view+json": {
       "model_id": "e320a195e87b4b089e5829873b3a4c19",
       "version_major": 2,
       "version_minor": 0
      },
      "text/plain": [
       "Output(layout=Layout(border='2px solid gray'))"
      ]
     },
     "metadata": {},
     "output_type": "display_data"
    }
   ],
   "source": [
    "out = widgets.Output(layout={'border': '2px solid gray'})\n",
    "out"
   ]
  },
  {
   "cell_type": "code",
   "execution_count": 38,
   "metadata": {},
   "outputs": [],
   "source": [
    "qs = {\n",
    "    'q1': ['q1 string', 'q1c1', 'q1c2', 'q1c3'],\n",
    "    'q2': ['q2 string', 'q2c1', 'q2c2', 'q2c3'],\n",
    "    'q3': ['q3 string', 'q3c1', 'q3c2', 'q3c3']\n",
    "    }\n",
    "\n",
    "ans = {\n",
    "    'q1': [True, False, False], \n",
    "    'q2': [False, True, True], \n",
    "    'q3': [False, True, False]\n",
    "    }\n",
    "\n",
    "msgs = {\n",
    "    'q1': {'correct': 'CORRECT! q1c1 is True because ... ', 'incorrect': 'INCORRECT! Only q1c1 is True because ...'}, \n",
    "    'q2': {'correct': 'CORRECT! q2c2 is True because ..., and q2c3 is True because ... ', 'incorrect': 'INCORRECT! Here q2c2 is True because ..., and q2c3 is True because ... '}, \n",
    "    'q3': {'correct': 'CORRECT! q3c2 is True because ... ', 'incorrect': 'INCORRECT! Only q3c2 is True because ...'}\n",
    "}\n",
    "\n",
    "wlist = {}\n",
    "for q in qs:\n",
    "    wlist[q] = [qs[q][0]]\n",
    "    for i in range(1, 4):\n",
    "        wlist[q].append(widgets.Checkbox(description=qs[q][i]))\n",
    "\n",
    "out.clear_output()\n",
    "sub = widgets.Button(description='Submit')\n",
    "\n",
    "\n",
    "with out:\n",
    "    for q in wlist:\n",
    "        print()\n",
    "        print(wlist[q][0])\n",
    "        for i in wlist[q][1:]:\n",
    "            display(i)\n",
    "    display(sub)\n",
    "\n",
    "\n",
    "def on_sub(b):\n",
    "    global ans\n",
    "    global msgs\n",
    "    out.clear_output(wait=True)\n",
    "    messages = {}\n",
    "    for q in wlist:\n",
    "        answers = []\n",
    "        for i in wlist[q][1:]:\n",
    "            answers.append(i.value)\n",
    "        if answers == ans[q]:\n",
    "            messages[q] = msgs[q]['correct']\n",
    "        else:\n",
    "            messages[q] = msgs[q]['incorrect']\n",
    "    with out:\n",
    "        # print('submitted')\n",
    "        for q in wlist:\n",
    "            print()\n",
    "            print(wlist[q][0])\n",
    "            for i in wlist[q][1:]:\n",
    "                display(i)\n",
    "            print(messages[q])\n",
    "        display(sub)\n",
    "\n",
    "sub.on_click(on_sub)\n"
   ]
  },
  {
   "cell_type": "code",
   "execution_count": null,
   "metadata": {},
   "outputs": [],
   "source": []
  }
 ],
 "metadata": {
  "kernelspec": {
   "display_name": "Python 3.9.6 64-bit",
   "language": "python",
   "name": "python3"
  },
  "language_info": {
   "codemirror_mode": {
    "name": "ipython",
    "version": 3
   },
   "file_extension": ".py",
   "mimetype": "text/x-python",
   "name": "python",
   "nbconvert_exporter": "python",
   "pygments_lexer": "ipython3",
   "version": "3.9.6"
  },
  "orig_nbformat": 4,
  "vscode": {
   "interpreter": {
    "hash": "2357eebbfc55f7d9fdf64c15a4b3c374b9e372aa3c4f8ecba863e07056cff31d"
   }
  }
 },
 "nbformat": 4,
 "nbformat_minor": 2
}
