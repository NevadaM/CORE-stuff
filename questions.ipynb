{
 "cells": [
  {
   "cell_type": "code",
   "execution_count": 46,
   "metadata": {},
   "outputs": [
    {
     "data": {
      "application/vnd.jupyter.widget-view+json": {
       "model_id": "5550faa213be4f7ab11b23f866df811c",
       "version_major": 2,
       "version_minor": 0
      },
      "text/plain": [
       "HTML(value='<style>\\n    .widget-label { min-width: min-content !important; }\\n</style>')"
      ]
     },
     "metadata": {},
     "output_type": "display_data"
    }
   ],
   "source": [
    "import ipywidgets as widgets\n",
    "import pandas as pd\n",
    "df = pd.read_excel('questionsexcel.xlsx', index_col='id').iloc[:1]\n",
    "\n",
    "display(widgets.HTML('''<style>\n",
    "    .widget-label { min-width: min-content !important; }\n",
    "</style>'''))\n",
    "\n",
    "style = {'description_width': 'initial'}"
   ]
  },
  {
   "cell_type": "code",
   "execution_count": 47,
   "metadata": {},
   "outputs": [
    {
     "data": {
      "text/html": [
       "<div>\n",
       "<style scoped>\n",
       "    .dataframe tbody tr th:only-of-type {\n",
       "        vertical-align: middle;\n",
       "    }\n",
       "\n",
       "    .dataframe tbody tr th {\n",
       "        vertical-align: top;\n",
       "    }\n",
       "\n",
       "    .dataframe thead th {\n",
       "        text-align: right;\n",
       "    }\n",
       "</style>\n",
       "<table border=\"1\" class=\"dataframe\">\n",
       "  <thead>\n",
       "    <tr style=\"text-align: right;\">\n",
       "      <th></th>\n",
       "      <th>question</th>\n",
       "      <th>c1</th>\n",
       "      <th>c2</th>\n",
       "      <th>c3</th>\n",
       "      <th>a1</th>\n",
       "      <th>a2</th>\n",
       "      <th>a3</th>\n",
       "      <th>message1</th>\n",
       "      <th>message2</th>\n",
       "      <th>message3</th>\n",
       "    </tr>\n",
       "    <tr>\n",
       "      <th>id</th>\n",
       "      <th></th>\n",
       "      <th></th>\n",
       "      <th></th>\n",
       "      <th></th>\n",
       "      <th></th>\n",
       "      <th></th>\n",
       "      <th></th>\n",
       "      <th></th>\n",
       "      <th></th>\n",
       "      <th></th>\n",
       "    </tr>\n",
       "  </thead>\n",
       "  <tbody>\n",
       "    <tr>\n",
       "      <th>q1</th>\n",
       "      <td>Which of the following statements is/are true?</td>\n",
       "      <td>The inflation shock shifts the Phillips curve ...</td>\n",
       "      <td>According to the 3-equation model, if inflatio...</td>\n",
       "      <td>Inflation decreases when the central bank incr...</td>\n",
       "      <td>True</td>\n",
       "      <td>False</td>\n",
       "      <td>False</td>\n",
       "      <td>True: The term inflation shock is used to refe...</td>\n",
       "      <td>False: The central bank needs to increase the ...</td>\n",
       "      <td>False: Inflation decreases if the nominal inte...</td>\n",
       "    </tr>\n",
       "  </tbody>\n",
       "</table>\n",
       "</div>"
      ],
      "text/plain": [
       "                                          question  \\\n",
       "id                                                   \n",
       "q1  Which of the following statements is/are true?   \n",
       "\n",
       "                                                   c1  \\\n",
       "id                                                      \n",
       "q1  The inflation shock shifts the Phillips curve ...   \n",
       "\n",
       "                                                   c2  \\\n",
       "id                                                      \n",
       "q1  According to the 3-equation model, if inflatio...   \n",
       "\n",
       "                                                   c3    a1     a2     a3  \\\n",
       "id                                                                          \n",
       "q1  Inflation decreases when the central bank incr...  True  False  False   \n",
       "\n",
       "                                             message1  \\\n",
       "id                                                      \n",
       "q1  True: The term inflation shock is used to refe...   \n",
       "\n",
       "                                             message2  \\\n",
       "id                                                      \n",
       "q1  False: The central bank needs to increase the ...   \n",
       "\n",
       "                                             message3  \n",
       "id                                                     \n",
       "q1  False: Inflation decreases if the nominal inte...  "
      ]
     },
     "execution_count": 47,
     "metadata": {},
     "output_type": "execute_result"
    }
   ],
   "source": [
    "df.head()"
   ]
  },
  {
   "cell_type": "code",
   "execution_count": 41,
   "metadata": {},
   "outputs": [
    {
     "data": {
      "text/plain": [
       "4"
      ]
     },
     "execution_count": 41,
     "metadata": {},
     "output_type": "execute_result"
    }
   ],
   "source": [
    "len(df)"
   ]
  },
  {
   "cell_type": "code",
   "execution_count": 42,
   "metadata": {},
   "outputs": [
    {
     "data": {
      "application/vnd.jupyter.widget-view+json": {
       "model_id": "b8403aea79124834b6e922e2c7a16704",
       "version_major": 2,
       "version_minor": 0
      },
      "text/plain": [
       "Output(layout=Layout(border='2px solid gray'))"
      ]
     },
     "metadata": {},
     "output_type": "display_data"
    }
   ],
   "source": [
    "out = widgets.Output(layout={'border': '2px solid gray'})\n",
    "out"
   ]
  },
  {
   "cell_type": "code",
   "execution_count": 45,
   "metadata": {},
   "outputs": [],
   "source": [
    "qs = {}\n",
    "ans = {}\n",
    "msgs = {}\n",
    "\n",
    "for i in df.index:\n",
    "    qs[i] = [df.loc[i]['question'], df.loc[i]['c1'], df.loc[i]['c2'], df.loc[i]['c3']]\n",
    "    ans[i] = [df.loc[i]['a1'], df.loc[i]['a2'], df.loc[i]['a3']]\n",
    "    msgs[i] = [df.loc[i]['message1'], df.loc[i]['message2'], df.loc[i]['message3']]\n",
    "\n",
    "wlist = {}\n",
    "for q in qs:\n",
    "    wlist[q] = [qs[q][0]]\n",
    "    for i in range(1, 4):\n",
    "        wlist[q].append(widgets.Checkbox(description=qs[q][i], style=style, layout=widgets.Layout(min_width='min-content')))\n",
    "\n",
    "out.clear_output()\n",
    "sub = widgets.Button(description='Submit')\n",
    "\n",
    "\n",
    "with out:\n",
    "    for q in wlist:\n",
    "        display(widgets.HTML(value=f'<h4>{wlist[q][0]}</h4>'))\n",
    "        for i in wlist[q][1:]:\n",
    "            display(i)\n",
    "        print()\n",
    "    display(sub)\n",
    "\n",
    "\n",
    "def on_sub(b):\n",
    "    global ans\n",
    "    global msgs\n",
    "    out.clear_output(wait=True)\n",
    "    messages = {}\n",
    "    for q in wlist:\n",
    "        messages[q] = []\n",
    "        for i in wlist[q][1:]:\n",
    "            answer = i.value\n",
    "        for i in range(1, 4):\n",
    "            answer = wlist[q][i].value\n",
    "            if answer == ans[q][i-1]:\n",
    "                messages[q].append(('CORRECT', msgs[q][i-1]))\n",
    "            else:\n",
    "                messages[q].append(('INCORRECT', msgs[q][i-1]))    \n",
    "    with out:\n",
    "        # print('submitted')\n",
    "        for q in wlist:\n",
    "            display(widgets.HTML(value=f'<h4>{wlist[q][0]}</h4>'))\n",
    "            for i in range(1, 4):\n",
    "                display(wlist[q][i])\n",
    "                if messages[q][i-1][0] == 'CORRECT':\n",
    "                    display(widgets.HTML(f'<div style=\"background-color: rgb(161, 240, 161); max-width: fit-content;\"><p><div style=\"font-weight: bold; color: green\">{messages[q][i-1][0]}</div>{messages[q][i-1][1]}</p></div>'))\n",
    "                else:\n",
    "                    display(widgets.HTML(f'<div style=\"background-color: rgb(241, 151, 151); max-width: fit-content;\"><p><div style=\"font-weight: bold; color: red\">{messages[q][i-1][0]}</div>{messages[q][i-1][1]}</p></div>'))\n",
    "            print()\n",
    "            # print(messages[q])\n",
    "        display(sub)\n",
    "\n",
    "sub.on_click(on_sub)\n"
   ]
  },
  {
   "cell_type": "code",
   "execution_count": null,
   "metadata": {},
   "outputs": [],
   "source": []
  }
 ],
 "metadata": {
  "kernelspec": {
   "display_name": "Python 3.9.6 64-bit",
   "language": "python",
   "name": "python3"
  },
  "language_info": {
   "codemirror_mode": {
    "name": "ipython",
    "version": 3
   },
   "file_extension": ".py",
   "mimetype": "text/x-python",
   "name": "python",
   "nbconvert_exporter": "python",
   "pygments_lexer": "ipython3",
   "version": "3.9.6"
  },
  "orig_nbformat": 4,
  "vscode": {
   "interpreter": {
    "hash": "2357eebbfc55f7d9fdf64c15a4b3c374b9e372aa3c4f8ecba863e07056cff31d"
   }
  }
 },
 "nbformat": 4,
 "nbformat_minor": 2
}
