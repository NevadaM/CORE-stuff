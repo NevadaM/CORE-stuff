{
 "cells": [
  {
   "cell_type": "code",
   "execution_count": 1,
   "metadata": {},
   "outputs": [],
   "source": [
    "%matplotlib inline\n",
    "import ipywidgets as widgets\n",
    "import matplotlib.pyplot as plt\n",
    "import os\n",
    "import pycel\n",
    "from pycel import ExcelCompiler\n",
    "import pandas as pd\n",
    "\n",
    "\n",
    "filename = r'simple_simulator.xlsx'"
   ]
  },
  {
   "cell_type": "code",
   "execution_count": 2,
   "metadata": {},
   "outputs": [
    {
     "name": "stderr",
     "output_type": "stream",
     "text": [
      "Initialized with cycles: True, while workbook says: False\n"
     ]
    }
   ],
   "source": [
    "excel = ExcelCompiler(filename=filename,cycles=True)"
   ]
  },
  {
   "cell_type": "code",
   "execution_count": 22,
   "metadata": {},
   "outputs": [],
   "source": [
    "shock_size = excel.evaluate('simulator!J6')\n",
    "before_policy = excel.evaluate('simulator!A1:H6')\n",
    "after_policy = excel.evaluate('simulator!A1:H7')\n",
    "# to display use display(); for dataframe have to save and open with pandas"
   ]
  },
  {
   "cell_type": "code",
   "execution_count": 35,
   "metadata": {},
   "outputs": [],
   "source": [
    "def PlotStuff(exceloutput):\n",
    "    '''Plots inflation and unemployment on side-by-side subplots'''\n",
    "    figs, axs = plt.subplots(1, 2, figsize=[10, 5])\n",
    "    axs[0].plot([exceloutput[i][0] for i in range(1, len(exceloutput))], [exceloutput[i][3] for i in range(1, len(exceloutput))])\n",
    "    axs[1].plot([exceloutput[i][0] for i in range(1, len(exceloutput))], [exceloutput[i][2] for i in range(1, len(exceloutput))])\n",
    "\n",
    "    plt.show()\n"
   ]
  },
  {
   "cell_type": "code",
   "execution_count": 36,
   "metadata": {},
   "outputs": [
    {
     "data": {
      "application/vnd.jupyter.widget-view+json": {
       "model_id": "520fa8b3cfa444ed95546ef85a7e95a9",
       "version_major": 2,
       "version_minor": 0
      },
      "text/plain": [
       "Output()"
      ]
     },
     "metadata": {},
     "output_type": "display_data"
    }
   ],
   "source": [
    "out = widgets.Output()\n",
    "display(out)"
   ]
  },
  {
   "cell_type": "code",
   "execution_count": 40,
   "metadata": {},
   "outputs": [],
   "source": [
    "r = widgets.IntSlider(1, 0, 10)\n",
    "sub = widgets.Button(description='Submit')\n",
    "\n",
    "with out:\n",
    "    out.clear_output(wait=True)\n",
    "    display(r, sub)\n",
    "    # display(before_policy)\n",
    "    PlotStuff(before_policy)\n",
    "\n",
    "\n",
    "def on_sub(b):\n",
    "    chosenrate = r.value\n",
    "    excel.set_value('simulator!G6', chosenrate)\n",
    "    excel.recalculate()\n",
    "    after_policy = excel.evaluate('simulator!A1:H7')\n",
    "    with out:\n",
    "        out.clear_output(wait=True)\n",
    "        display(r, sub)\n",
    "        print(f'chosen rate {chosenrate}')\n",
    "        # display(excel.evaluate('simulator!G6'))\n",
    "        # display(after_policy)\n",
    "        PlotStuff(after_policy)\n",
    "        if chosenrate == 4:\n",
    "            print('you stabilised inflation - congratulations. however, look at unemployment. ..........')\n",
    "        elif chosenrate <= 1:\n",
    "            print('Unemployment is looking healthy - but inflation is still getting higher. This is because ......')\n",
    "        elif 1 < chosenrate < 4:\n",
    "            print('Inflation is still getting higher, and meanwhile unemployment is getting worse too! this is because ..... ')\n",
    "        elif 4 < chosenrate:\n",
    "            print('Inflation is heading back down to equilibrium - but employment is tanking. ...........?')\n",
    "\n",
    "\n",
    "sub.on_click(on_sub)\n",
    "\n"
   ]
  },
  {
   "cell_type": "code",
   "execution_count": 39,
   "metadata": {},
   "outputs": [],
   "source": [
    "# PlotStuff(after_policy)\n",
    "# plt.show()"
   ]
  },
  {
   "cell_type": "code",
   "execution_count": null,
   "metadata": {},
   "outputs": [],
   "source": []
  }
 ],
 "metadata": {
  "kernelspec": {
   "display_name": "Python 3.10.5 64-bit",
   "language": "python",
   "name": "python3"
  },
  "language_info": {
   "codemirror_mode": {
    "name": "ipython",
    "version": 3
   },
   "file_extension": ".py",
   "mimetype": "text/x-python",
   "name": "python",
   "nbconvert_exporter": "python",
   "pygments_lexer": "ipython3",
   "version": "3.10.5"
  },
  "orig_nbformat": 4,
  "vscode": {
   "interpreter": {
    "hash": "bfb951cf4239d7e9a21639cd3f6aff722a5dd9312a453e687af2125473e9531c"
   }
  }
 },
 "nbformat": 4,
 "nbformat_minor": 2
}
