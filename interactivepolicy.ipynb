{
 "cells": [
  {
   "cell_type": "markdown",
   "metadata": {},
   "source": [
    "<h1 style=\"color: #f05a5b; font-family: 'Trebuchet MS', 'Lucida Sans Unicode', sans-serif; font-weight: bold;\">\n",
    "    Experimenting with Inflation\n",
    "</h1>"
   ]
  },
  {
   "cell_type": "code",
   "execution_count": 23,
   "metadata": {},
   "outputs": [
    {
     "data": {
      "application/vnd.jupyter.widget-view+json": {
       "model_id": "3034c314c2cc442f91ab98f32369b3ce",
       "version_major": 2,
       "version_minor": 0
      },
      "text/plain": [
       "HTML(value='<style>\\n    .widget-label { min-width: min-content !important; }\\n</style>')"
      ]
     },
     "metadata": {},
     "output_type": "display_data"
    }
   ],
   "source": [
    "%matplotlib inline\n",
    "import ipywidgets as widgets\n",
    "import matplotlib.pyplot as plt\n",
    "import matplotlib.lines as mlines\n",
    "import os\n",
    "import pycel\n",
    "from pycel import ExcelCompiler\n",
    "import pandas as pd\n",
    "\n",
    "\n",
    "filename = r'simple simulator unemployment.xlsx'\n",
    "plt.style.use('seaborn-poster')\n",
    "display(widgets.HTML('''<style>\n",
    "    .widget-label { min-width: min-content !important; }\n",
    "</style>'''))\n",
    "style = {'description_width': 'initial'}"
   ]
  },
  {
   "cell_type": "code",
   "execution_count": 24,
   "metadata": {},
   "outputs": [
    {
     "name": "stderr",
     "output_type": "stream",
     "text": [
      "Initialized with cycles: True, while workbook says: False\n"
     ]
    }
   ],
   "source": [
    "excel = ExcelCompiler(filename=filename,cycles=True)"
   ]
  },
  {
   "cell_type": "code",
   "execution_count": 25,
   "metadata": {},
   "outputs": [],
   "source": [
    "shock_size = excel.evaluate('simulator!L7')\n",
    "no_policy = excel.evaluate('simulator!A1:J30')\n",
    "before_policy = excel.evaluate('simulator!A1:J6')\n",
    "after_policy = excel.evaluate('simulator!A1:J7')\n",
    "# to display use display(); for dataframe have to save and open with pandas"
   ]
  },
  {
   "cell_type": "code",
   "execution_count": 26,
   "metadata": {},
   "outputs": [],
   "source": [
    "def PlotStuff(exceloutputs:list, title, after = False, show=True, auto=False, legend=False, shockline=True, shocktext=False, recoverytext=False):\n",
    "    '''Plots inflation and unemployment on side-by-side subplots'''\n",
    "    colourlist = ['#f05a5b', 'grey', 'pink']\n",
    "    figs, axs = plt.subplots(1, 4, figsize=[24, 8])\n",
    "    for data in exceloutputs:\n",
    "        colour = colourlist[exceloutputs.index(data)]\n",
    "        if after:\n",
    "            axs[0].plot([data[i][0] for i in range(1, len(data)-1)], [data[i][4] for i in range(1, len(data)-1)], colour)\n",
    "            axs[1].plot([data[i][0] for i in range(1, len(data)-1)], [data[i][3] for i in range(1, len(data)-1)], colour)\n",
    "            axs[2].plot([data[i][0] for i in range(1, len(data)-1)], [100*data[i][-1] for i in range(1, len(data)-1)], colour)\n",
    "            axs[3].plot([data[i][0] for i in range(1, len(data)-2)], [data[i][-3] for i in range(1, len(data)-2)], colour)\n",
    "            axs[0].plot([data[-2][0], data[-1][0]], [data[-2][4], data[-1][4]], 'black')\n",
    "            axs[1].plot([data[-2][0], data[-1][0]], [data[-2][3], data[-1][3]], 'black')\n",
    "            axs[2].plot([data[-2][0], data[-1][0]], [100*data[-2][-1], 100*data[-1][-1]], 'black')\n",
    "            axs[3].plot([data[-3][0], data[-2][0]], [data[-3][-3], data[-2][-3]], 'black')\n",
    "            axs[3].set_xlim(left=0.75, right=6.25)\n",
    "\n",
    "        else:\n",
    "            axs[0].plot([data[i][0] for i in range(1, len(data))], [data[i][4] for i in range(1, len(data))], colour)\n",
    "            axs[1].plot([data[i][0] for i in range(1, len(data))], [data[i][3] for i in range(1, len(data))], colour)\n",
    "            axs[2].plot([data[i][0] for i in range(1, len(data))], [100*data[i][-1] for i in range(1, len(data))], colour)\n",
    "            axs[3].plot([data[i][0] for i in range(1, len(data)-1)], [data[i][-3] for i in range(1, len(data)-1)], colour)\n",
    "            axs[0].plot(data[-1][0] + 1, data[-1][4])\n",
    "            axs[1].plot(data[-1][0] + 1, data[-1][3])\n",
    "            axs[2].plot(data[-1][0] + 1, 100*data[-1][-1])\n",
    "            axs[3].plot(data[-1][0] + 1, data[-1][-3])\n",
    "    axs[0].set_title('Inflation %')\n",
    "    axs[1].set_title('GDP')\n",
    "    axs[2].set_title('Unemployment %')\n",
    "    axs[3].set_title('Real Interest Rate %')\n",
    "    axs[0].set_xlabel('Period')\n",
    "    axs[1].set_xlabel('Period')\n",
    "    axs[2].set_xlabel('Period')\n",
    "    axs[3].set_xlabel('Period')\n",
    "    if shockline:\n",
    "        axs[0].vlines(x=4, ymin=0, ymax=200, color='silver', linestyles='dashed', label='shock')\n",
    "        axs[1].vlines(x=4, ymin=0, ymax=200, color='silver', linestyles='dashed', label='shock')\n",
    "        axs[2].vlines(x=4, ymin=0, ymax=200, color='silver', linestyles='dashed', label='shock')\n",
    "        axs[3].vlines(x=4, ymin=0, ymax=200, color='silver', linestyles='dashed', label='shock')\n",
    "        axs[0].vlines(x=5, ymin=0, ymax=200, color='silver', linestyles='dashed', label='shock')\n",
    "        axs[1].vlines(x=5, ymin=0, ymax=200, color='silver', linestyles='dashed', label='shock')\n",
    "        axs[2].vlines(x=5, ymin=0, ymax=200, color='silver', linestyles='dashed', label='shock')\n",
    "        axs[3].vlines(x=5, ymin=0, ymax=200, color='silver', linestyles='dashed', label='shock')\n",
    "    if shocktext:\n",
    "        axs[0].text(x=3.85, y=8.16, s='SHOCK', rotation='vertical', horizontalalignment='center')\n",
    "        axs[1].text(x=3.85, y=100.675, s='SHOCK', rotation='vertical', horizontalalignment='center')\n",
    "        axs[2].text(x=3.85, y=11.175, s='SHOCK', rotation='vertical', horizontalalignment='center')\n",
    "        axs[3].text(x=3.85, y=7.675, s='SHOCK', rotation='vertical', horizontalalignment='center')\n",
    "    if recoverytext:\n",
    "            axs[0].text(x=5.3, y=8.15, s='POLICY\\nREACTION', rotation='vertical', horizontalalignment='center')\n",
    "            axs[1].text(x=5.3, y=100.625, s='POLICY\\nREACTION', rotation='vertical', horizontalalignment='center')\n",
    "            axs[2].text(x=5.3, y=11.125, s='POLICY\\nREACTION', rotation='vertical', horizontalalignment='center')\n",
    "            axs[3].text(x=5.3, y=7.625, s='POLICY\\nREACTION', rotation='vertical', horizontalalignment='center')\n",
    "\n",
    "\n",
    "    if not auto:\n",
    "        axs[0].set_ylim(bottom=1.5, top=9)\n",
    "        axs[1].set_ylim(bottom=93.5, top=101.5)\n",
    "        axs[2].set_ylim(bottom=4, top=12)\n",
    "        axs[3].set_ylim(bottom=0.5, top=8.5)\n",
    "\n",
    "\n",
    "    figs.suptitle(title, fontsize=16)\n",
    "    \n",
    "    if legend:\n",
    "        label1 = mlines.Line2D([], [], color='#f05a5b', label='chosen props')\n",
    "        label2 = mlines.Line2D([], [], color='grey', label='benchmark props')\n",
    "        axs[0].legend(handles=[label1, label2], bbox_to_anchor=(0.8, 1.2))\n",
    "        # axs[0].legend(handles=[label1, label2])\n",
    "\n",
    "    if show:\n",
    "        plt.show()\n",
    "    else:\n",
    "        return figs, axs\n",
    "\n",
    "def AppendtoPlot(figs, axs, new_excel):\n",
    "    axs[0].plot([new_excel[i][0] for i in range(1, len(new_excel))], [new_excel[i][4] for i in range(1, len(new_excel))])\n",
    "    axs[1].plot([new_excel[i][0] for i in range(1, len(new_excel))], [new_excel[i][3] for i in range(1, len(new_excel))])\n",
    "    axs[2].plot([new_excel[i][0] for i in range(1, len(new_excel))], [new_excel[i][-1] for i in range(1, len(new_excel))])\n",
    "    axs[3].plot([new_excel[i][0] for i in range(1, len(new_excel))], [new_excel[i][-3] for i in range(1, len(new_excel))])\n",
    "    return figs, axs\n",
    "    \n"
   ]
  },
  {
   "cell_type": "markdown",
   "metadata": {},
   "source": [
    "[video]"
   ]
  },
  {
   "cell_type": "markdown",
   "metadata": {},
   "source": [
    "INTRO - EXPLAIN THE SHOCK WE'RE ANALYSING, EXPLAIN HOW RELEVANT IT IS, ETC"
   ]
  },
  {
   "cell_type": "markdown",
   "metadata": {},
   "source": [
    "<h2 style=\"color: #f05a5b; font-family: 'Trebuchet MS', 'Lucida Sans Unicode', sans-serif; font-weight: bold;\">\n",
    "    NO POLICY\n",
    "</h2>"
   ]
  },
  {
   "cell_type": "markdown",
   "metadata": {},
   "source": [
    "<h3>An Inflation Shock with no policy response leads to an extreme inflation spiral</h3>"
   ]
  },
  {
   "cell_type": "code",
   "execution_count": 27,
   "metadata": {},
   "outputs": [
    {
     "data": {
      "image/png": "[encoded data removed]",
      "text/plain": [
       "<Figure size 864x432 with 1 Axes>"
      ]
     },
     "metadata": {
      "needs_background": "light"
     },
     "output_type": "display_data"
    }
   ],
   "source": [
    "fig, ax = plt.subplots(1, 1, figsize = [12, 6])\n",
    "ax.plot([no_policy[i][0] for i in range(1, 16)], [no_policy[i][4] for i in range(1, 16)], '#f05a5b')\n",
    "ax.set_title('An inflation shock with no policy response')\n",
    "ax.set_ylabel('Inflation %')\n",
    "ax.set_xlabel('Period')\n",
    "ax.xaxis.set_ticks(range(1, 16))\n",
    "\n",
    "plt.show()"
   ]
  },
  {
   "cell_type": "markdown",
   "metadata": {},
   "source": [
    "When the price of oil increases, inflation goes up in the shock period due to the increase in the price of fuel for consumers and the pass-through of the increase in firms’ costs to final prices. This increase in inflation has two effects relevant for next period: \n",
    "\n",
    "* First, it reduces the purchasing power of workers, setting workers’ real wage below the level consistent with the state of the labour market. [The real wage shown by the PS curve falls below the real wage on the WS curve. i.e., the PS curve shifts down.] \n",
    "* Second, the increase in inflation increases inflation expectations for the future. [The PC curve shifts up.] \n",
    "\n",
    "Due to these two effects, second period nominal wages increase faster both to offset the loss in purchasing power due to the unexpected increase in past inflation and to avoid erosion of purchasing power due to higher expected inflation. Wage setters are frustrated in the attempt to restore the real wage to its initial level [on the WS curve]. Firms pass on the increase in unit labour costs arising from the rise in nominal wages to final prices to sustain their profit margin, increasing inflation above expected inflation. Therefore, in the third and following periods the attempt to restore workers’ purchasing power will maintain nominal wage growth and inflation above expected inflation, fueling an inflation spiral."
   ]
  },
  {
   "cell_type": "markdown",
   "metadata": {},
   "source": [
    "<h2 style=\"color: #f05a5b; font-family: 'Trebuchet MS', 'Lucida Sans Unicode', sans-serif; font-weight: bold;\">\n",
    "    YOU CHOOSE MONETARY POLICY REACTION \n",
    "</h2>"
   ]
  },
  {
   "cell_type": "markdown",
   "metadata": {},
   "source": [
    "<h3>There's been a permanent inflation shock in period 5. Choose a real interest rate to see its effect - you should aim to stabilise inflation.</h3>"
   ]
  },
  {
   "cell_type": "code",
   "execution_count": 28,
   "metadata": {},
   "outputs": [
    {
     "data": {
      "application/vnd.jupyter.widget-view+json": {
       "model_id": "003b1c9c76cb422281dc290bc14e39d6",
       "version_major": 2,
       "version_minor": 0
      },
      "text/plain": [
       "Output(layout=Layout(border='2px solid gray', margin='0 0 0 0', padding='5px 5px 5px 5px'))"
      ]
     },
     "metadata": {},
     "output_type": "display_data"
    }
   ],
   "source": [
    "out = widgets.Output(layout={'border': '2px solid gray', 'padding': '5px 5px 5px 5px', 'margin': '0 0 0 0'})\n",
    "display(out)"
   ]
  },
  {
   "cell_type": "code",
   "execution_count": 29,
   "metadata": {},
   "outputs": [],
   "source": [
    "r = widgets.IntSlider(1, 1, 7, description='Post-Shock Interest Rate')\n",
    "sub = widgets.Button(description='Submit')\n",
    "\n",
    "\n",
    "with out:\n",
    "    out.clear_output(wait=True)\n",
    "    display(r, sub)\n",
    "    # display(before_policy)\n",
    "    PlotStuff([before_policy], title='', shocktext=True, recoverytext=True, auto=False)\n",
    "\n",
    "\n",
    "def on_sub(b):\n",
    "    excel.evaluate('simulator!H6')\n",
    "    chosenrate = r.value\n",
    "    excel.set_value('simulator!H6', chosenrate)\n",
    "    excel.recalculate()\n",
    "    after_policy = excel.evaluate('simulator!A1:J7')\n",
    "    with out:\n",
    "        out.clear_output(wait=True)\n",
    "        display(r, sub)\n",
    "        print(f'chosen rate {chosenrate} - see below for its effects')\n",
    "        # display(excel.evaluate('simulator!H6'))\n",
    "        # display(after_policy)\n",
    "        PlotStuff([after_policy], title='', after=True, shocktext=True, recoverytext=True, auto=False)\n",
    "        if chosenrate == 4:\n",
    "            display(widgets.HTML('<h3>You have stabilised inflation - congratulations. This is because you have chosen an interest rate equal to the stabilizing real interest rate [on the IS curve at the new lower equilibrium level of output]. However, your success in stopping the inflation spiral has been at the expense of an increase in unemployment.</h3>'))\n",
    "            display(widgets.HTML('<p>Increasing the interest rate you have reduced aggregate demand. With lower demand for final goods and services firms reduce labour demand, which increases unemployment. Higher unemployment reduces the workers\\' reservation wage and makes wage setters accept a fall in the real wage, although of lower magnitude than the erosion in real wage caused by the oil shock. [This is a move along the WS curve.] Now the wage-setting real wage exactly matches the real wage consistent with firms\\' price-setting behaviour and the higher oil price [on the lower PS curve]. Therefore, after your policy choice nominal wage growth and therefore actual inflation are equal to expected and past inflation. This is why inflation remains constant. [The PC curve does not shift upward.] </p>'))\n",
    "            display(widgets.HTML('<h4>You have stabilized inflation but unemployment is higher and inflation, although stable, is higher than the central bank\\'s target, which we assume was the pre-existing rate of inflation. </h4>'))\n",
    "            print()\n",
    "        elif 1 <= chosenrate < 4:\n",
    "            display(widgets.HTML('<h3>Inflation is still getting higher, and meanwhile unemployment is getting worse too! </h3>'))\n",
    "            display(widgets.HTML('<p>This is because you have chosen an interest rate lower than the stabilizing level. Therefore, you have not stopped the inflation spiral, although it proceeds more slowly after your policy choice. [The stabilizing real interest rate has gone up because equilibrium output is now lower.]</p>'))\n",
    "            display(widgets.HTML('<p>By increasing the interest rate, you have reduced aggregate demand. With lower demand for final goods and services, firms reduce labour demand, which increases unemployment. Higher unemployment reduces the workers\\' reservation wage and makes wage setters accept a fall in the real wage, although of lower magnitude than the erosion in real wage caused by the oil shock. [This is a move along the WS curve.] Therefore, after the policy choice the wage-setting real wage is still higher than the real wage consistent with firms\\' price-setting behaviour [the wage on the WS is still above that on the on the lower PS curve] and conditions in the labour market meant that wage setters still seek to increase the purchasing power of workers. Thus, they set nominal wage growth (and effectively, inflation) above expected and past inflation. This is why inflation is still on an upwards path, although a more moderate one due to the partial acceptance as a result of higher unemployment of the dent made in real wages by the shock.</p>'))\n",
    "            display(widgets.HTML('<h4>With your policy choice you have driven the economy to a stagflation scenario, that is, a situation that combines an increase in both inflation and unemployment. </h4>'))\n",
    "            print()\n",
    "        elif 4 < chosenrate < 7:\n",
    "            display(widgets.HTML('<h3>Inflation is heading back down to the central bank\\'s target. This is because you have chosen an interest rate higher than the stabilizing level. However, employment is tanking due to your policy choice.</h3>'))\n",
    "            display(widgets.HTML('<p>Increasing the interest rate you have reduced aggregate demand. With lower demand for final goods and services, firms reduce labour demand, which increases unemployment. Higher unemployment reduces the workers\\' reservation wage and makes wage setters accept a fall in the real wage [a move along the WS curve]. This effect is so strong that now the wage-setting real wage is lower than the real wage consistent with firms\\' price-setting behaviour and the higher oil price [on the lower PS curve]. The acceptance – due to the deterioration in the labour market – of further reductions in the real wage translates into setting nominal wage growth (and effectually inflation) below expected and past inflation. This is why inflation falls [the PC shifts down].</p>'))\n",
    "            display(widgets.HTML('<h4>Despite your policy having reduced inflation, this is still higher than its pre-shock value. In the following periods you would need to keep the interest rate above its stabilizing level to drive inflation back to its pre-shock value (the central bank\\'s target). [the PC would keep shifting down period by period]</h4>'))\n",
    "            print()\n",
    "        elif chosenrate == 7:\n",
    "            display(widgets.HTML('<h3>You have chosen an interest rate higher than the equilibrium level and enough to drive inflation back to its pre-shock value. However, the cost of your policy shock in terms of unemployment is the highest.</h3>'))\n",
    "            display(widgets.HTML('<p>Increasing the interest rate you have reduced aggregate demand. With lower demand for final goods and services firms reduce labour demand, which increases unemployment. Higher unemployment reduces the workers\\' reservation wage and makes wage setters accept a fall in the real wage [a move along the WS curve]. This effect is so strong that now the wage-setting real wage is lower than the real wage consistent with firms\\' price-setting behaviour and the higher oil price [on the lower PS curve]. The acceptance – due to the deterioration in the labour market – of further reductions in the real wage translates into setting nominal wage growth (and effectually inflation) below expected and past inflation. This is why inflation falls [the PC shifts down].</p>'))\n",
    "            display(widgets.HTML('<h4>Since you have hit the pre-shock inflation value (the central bank\\'s target), then in the following period you would just need to adjust the interest rate to its equilibrium level. This is a ‘shock therapy\\' approach to the problem. </h4>'))\n",
    "            print()\n",
    "\n",
    "\n",
    "sub.on_click(on_sub)\n"
   ]
  },
  {
   "cell_type": "markdown",
   "metadata": {},
   "source": [
    "<h1 style=\"color: #f05a5b; font-family: 'Trebuchet MS', 'Lucida Sans Unicode', sans-serif; font-weight: bold;\">\n",
    "   COMPARING DIFFERENT REACTIONS BY THE CENTRAL BANK TO AN OIL SHOCK \n",
    "</h1>"
   ]
  },
  {
   "cell_type": "markdown",
   "metadata": {},
   "source": [
    "<h3>Idea is to compare short run/long term benefits/costs of each approach, and realise costly recession is \"best\"</h3>\n",
    "\n",
    "UPDATE TEXT HERE!!!"
   ]
  },
  {
   "cell_type": "code",
   "execution_count": 30,
   "metadata": {},
   "outputs": [
    {
     "name": "stderr",
     "output_type": "stream",
     "text": [
      "Initialized with cycles: True, while workbook says: False\n",
      "Initialized with cycles: True, while workbook says: False\n"
     ]
    }
   ],
   "source": [
    "excel1 = ExcelCompiler(filename=filename,cycles=True)\n",
    "excel1.evaluate('simulator!H6')\n",
    "excel1.set_value('simulator!H6', 1)\n",
    "excel1.recalculate()\n",
    "no_change_policy = excel1.evaluate('simulator!A1:J30')\n",
    "excel2 = ExcelCompiler(filename='simple sim endog cb.xlsx', cycles=True)\n",
    "timid_policy = excel2.evaluate('timid!A1:K30')\n",
    "optimal_policy = excel2.evaluate('optimal!A1:K30')\n"
   ]
  },
  {
   "cell_type": "code",
   "execution_count": 31,
   "metadata": {},
   "outputs": [
    {
     "data": {
      "application/vnd.jupyter.widget-view+json": {
       "model_id": "c52198264a974729a669ada1dcfb1c1f",
       "version_major": 2,
       "version_minor": 0
      },
      "text/plain": [
       "Output(layout=Layout(border='2px solid gray', margin='0 0 0 0', padding='5px 5px 5px 5px'))"
      ]
     },
     "metadata": {},
     "output_type": "display_data"
    }
   ],
   "source": [
    "out2 = widgets.Output(layout={'border': '2px solid gray', 'padding': '5px 5px 5px 5px', 'margin': '0 0 0 0'})\n",
    "display(out2)"
   ]
  },
  {
   "cell_type": "code",
   "execution_count": 32,
   "metadata": {},
   "outputs": [],
   "source": [
    "title = widgets.HTML('<h1> Comparing types of central banks </h1>')\n",
    "dropdown = widgets.Dropdown(options=['Select an option from below', 'CB that wants to avoid higher unemployment despite equilibrium change',\n",
    " 'CB that slowly accepts change to unemployment', \n",
    " 'CB that accepts costly recession and unemployment below equilibrium to prioritise inflation'], value='Select an option from below', layout={'width': 'max-content'}, description='')\n",
    "\n",
    "def get_plots(CB):\n",
    "    if CB == 'CB that wants to avoid higher unemployment despite equilibrium change':\n",
    "        PlotStuff([no_change_policy[:15]], title='CB that wants to avoid change to unemployment despite equilibrium change', after=False, auto=False)\n",
    "        display(widgets.HTML('<h2>Leaving policy unchanged is not sustainable</h2>'))\n",
    "        display(widgets.HTML('<p>As shown previously, an unchanged interest rate ensures an unsustainable inflation spiral.</p>'))\n",
    "    elif CB == 'CB that slowly accepts change to unemployment':\n",
    "        PlotStuff([timid_policy[:15]], title='CB that slowly accepts change to unemployment',after=False)\n",
    "        display(widgets.HTML('<h2>A slow response has short term benefits with a soft landing, at the expense of permanently high inflation</h2>'))\n",
    "        display(widgets.HTML('<p>In this case, the central bank slowly adjusts from below the policy rate to its equilibrium level. The increases in the interest rate are not enough to drive inflation down since the interest rate is always below its stabilizing value. As a result, inflation keeps increasing. Eventually, inflation stabilizes at a level above its pre-shock value when the interest rate hits its equilibrium value. At this point, high inflation is entrenched by higher inflation expectations resulting from a prolonged period of excess inflation.</p>'))\n",
    "        display(widgets.HTML('<p>It can be seen that in the short run this policy option may seem attractive, since it implies that neither inflation nor unemployment is very high. However, in the medium run it implies both excess inflation and higher unemployment.</p>'))\n",
    "    elif CB == 'CB that accepts costly recession and unemployment below equilibrium to prioritise inflation':\n",
    "        PlotStuff([optimal_policy[:15]], title='CB that accepts costly recession and unemployment below equilibrium to prioritise inflation', after=False)\n",
    "        display(widgets.HTML('<h2>A costly recession, engineered by the CB with high interest rates, brings inflation under control but could be </h2>'))\n",
    "        display(widgets.HTML('<p>In this case, the central bank responds quickly and strongly to the oil shock, increasing the interest rate above its equilibrium value from the outset. The short run sacrifice in terms of unemployment is severe, but it is necessary if the central bank wants to wipe out the effects of the shock on inflation. Doing this, the central bank avoids a permanent increase in inflation expectations, which allows a relaxation of monetary policy in the medium run to the new equilibrium at higher unemployment and a higher stabilizing interest rate. </p>'))\n",
    "    else:\n",
    "        display(widgets.HTML('<h3>Choose a CB behaviour from the Dropdown to see its performance, benefits and costs</h3>'))\n",
    "\n",
    "\n",
    "with out2:\n",
    "    out2.clear_output(wait=True)\n",
    "    display(title)\n",
    "    widgets.interact(get_plots, CB=dropdown)\n",
    "    # display(inter)\n",
    "    # PlotStuff(no_change_policy[:15], title='CB that wants to avoid change to unemployment despite equilibrium change', after=False)\n",
    "    # PlotStuff(timid_policy[:15], title='CB that slowly accepts change to unemployment',after=False)\n",
    "    # PlotStuff(optimal_policy[:15], title='CB that accepts costly recession and unemployment below equilibrium to prioritise inflation', after=False)\n"
   ]
  },
  {
   "cell_type": "markdown",
   "metadata": {},
   "source": [
    "STILL NEED TEXT HERE"
   ]
  },
  {
   "cell_type": "code",
   "execution_count": 33,
   "metadata": {},
   "outputs": [
    {
     "data": {
      "application/vnd.jupyter.widget-view+json": {
       "model_id": "497366ac4b6a4723bc65826b5af1d032",
       "version_major": 2,
       "version_minor": 0
      },
      "text/plain": [
       "Output(layout=Layout(border='2px solid gray', margin='0 0 0 0', padding='5px 5px 5px 5px'))"
      ]
     },
     "metadata": {},
     "output_type": "display_data"
    }
   ],
   "source": [
    "qout3 = widgets.Output(layout={'border': '2px solid gray', 'padding': '5px 5px 5px 5px', 'margin': '0 0 0 0'})\n",
    "qout3"
   ]
  },
  {
   "cell_type": "code",
   "execution_count": 34,
   "metadata": {},
   "outputs": [],
   "source": [
    "df3 = pd.read_excel('questionsexcel.xlsx', index_col='id').iloc[:2]\n",
    "qs3 = {}\n",
    "ans3 = {}\n",
    "msgs3 = {}\n",
    "\n",
    "for i in df3.index:\n",
    "    qs3[i] = [df3.loc[i]['question'], df3.loc[i]['c1'], df3.loc[i]['c2'], df3.loc[i]['c3']]\n",
    "    ans3[i] = [df3.loc[i]['a1'], df3.loc[i]['a2'], df3.loc[i]['a3']]\n",
    "    msgs3[i] = [df3.loc[i]['message1'], df3.loc[i]['message2'], df3.loc[i]['message3']]\n",
    "\n",
    "wlist3 = {}\n",
    "for q in qs3:\n",
    "    wlist3[q] = [qs3[q][0]]\n",
    "    for i in range(1, 4):\n",
    "        wlist3[q].append(widgets.Checkbox(description=qs3[q][i], style=style, layout=widgets.Layout(min_width='min-content')))\n",
    "\n",
    "qout3.clear_output()\n",
    "sub3 = widgets.Button(description='Submit')\n",
    "\n",
    "\n",
    "with qout3:\n",
    "    for q in wlist3:\n",
    "        display(widgets.HTML(value=f'<h4>{wlist3[q][0]}</h4>'))\n",
    "        for i in wlist3[q][1:]:\n",
    "            display(i)\n",
    "        print()\n",
    "    display(sub3)\n",
    "\n",
    "\n",
    "def on_sub3(b):\n",
    "    global ans3\n",
    "    global msgs3\n",
    "    qout3.clear_output(wait=True)\n",
    "    messages = {}\n",
    "    for q in wlist3:\n",
    "        messages[q] = []\n",
    "        for i in wlist3[q][1:]:\n",
    "            answer = i.value\n",
    "        for i in range(1, 4):\n",
    "            answer = wlist3[q][i].value\n",
    "            if answer == ans3[q][i-1]:\n",
    "                messages[q].append(('CORRECT', msgs3[q][i-1]))\n",
    "            else:\n",
    "                messages[q].append(('INCORRECT', msgs3[q][i-1]))    \n",
    "    with qout3:\n",
    "        # print('sub3mitted')\n",
    "        for q in wlist3:\n",
    "            display(widgets.HTML(value=f'<h3>{wlist3[q][0]}</h3>'))\n",
    "            for i in range(1, 4):\n",
    "                display(wlist3[q][i])\n",
    "                if messages[q][i-1][0] == 'CORRECT':\n",
    "                    display(widgets.HTML(f'<div style=\"background-color: rgb(161, 230, 161); max-width: fit-content;\"><p><div style=\"font-weight: bold; color: green\">{messages[q][i-1][0]}</div>{messages[q][i-1][1]}</p></div>'))\n",
    "                else:\n",
    "                    display(widgets.HTML(f'<div style=\"background-color: rgb(231, 151, 151); max-width: fit-content;\"><p><div style=\"font-weight: bold; color: red\">{messages[q][i-1][0]}</div>{messages[q][i-1][1]}</p></div>'))\n",
    "            print()\n",
    "            # print(messages[q])\n",
    "        display(sub3)\n",
    "\n",
    "sub3.on_click(on_sub3)"
   ]
  },
  {
   "cell_type": "markdown",
   "metadata": {},
   "source": [
    "<h1 style=\"color: #f05a5b; font-family: 'Trebuchet MS', 'Lucida Sans Unicode', sans-serif; font-weight: bold;\">\n",
    "    A CENTRAL BANK WITH AN EXPLICIT LOSS FUNCTION AND INFLATION TARGET: EXPERIMENTING WITH THE POLICY MAKER’S AVERSION TO INFLATION \n",
    "</h1>"
   ]
  },
  {
   "cell_type": "markdown",
   "metadata": {},
   "source": [
    "<h3>Now that it's clear how a costly recession is necessary, we introduce CB beta and how inflation aversion affects CB behaviour. </h3>"
   ]
  },
  {
   "cell_type": "markdown",
   "metadata": {},
   "source": [
    "In the previous section we saw that oil shocks imply a trade-off for the central bank between inflation and unemployment. In this section we show that the way this trade-off is dealt with depends on the central bank’s degree of inflation aversion. [The CB uses the MR curve to determine its interest rate reaction to the shock.]\n",
    "\n",
    "A benchmark is set where the central bank places the same weight on deviations of inflation from its target and of unemployment from equilibrium. [beta is equal to one in the CB’s loss function]"
   ]
  },
  {
   "cell_type": "code",
   "execution_count": 35,
   "metadata": {},
   "outputs": [
    {
     "data": {
      "application/vnd.jupyter.widget-view+json": {
       "model_id": "9d39c4b4ee914ca69deb3b20de4b1304",
       "version_major": 2,
       "version_minor": 0
      },
      "text/plain": [
       "Output(layout=Layout(border='2px solid gray', margin='0 0 0 0', padding='5px 5px 5px 5px'))"
      ]
     },
     "metadata": {},
     "output_type": "display_data"
    },
    {
     "data": {
      "application/vnd.jupyter.widget-view+json": {
       "model_id": "c09d3b7e62524a19a32fbdbce9b988bd",
       "version_major": 2,
       "version_minor": 0
      },
      "text/plain": [
       "Output()"
      ]
     },
     "metadata": {},
     "output_type": "display_data"
    },
    {
     "data": {
      "application/vnd.jupyter.widget-view+json": {
       "model_id": "c79ccc5768ea4fe0841c2e4a832d9403",
       "version_major": 2,
       "version_minor": 0
      },
      "text/plain": [
       "Output()"
      ]
     },
     "metadata": {},
     "output_type": "display_data"
    }
   ],
   "source": [
    "out3 = widgets.Output(layout={'border': '2px solid gray', 'padding': '5px 5px 5px 5px', 'margin': '0 0 0 0'})\n",
    "display(out3)"
   ]
  },
  {
   "cell_type": "code",
   "execution_count": 44,
   "metadata": {},
   "outputs": [],
   "source": [
    "out3.clear_output()\n",
    "def betafunc(slider, show_benchmark):\n",
    "    # global figs, axs\n",
    "    excel2.evaluate('optimal!M3')\n",
    "    chosenrate = slider\n",
    "    excel2.set_value('optimal!M3', chosenrate)\n",
    "    excel2.recalculate()\n",
    "    after_policy = excel2.evaluate('optimal!A1:K30')\n",
    "    if chosenrate < 1:\n",
    "        message = \"With lower values of beta, price stability becomes less important. Therefore, the central bank implements a weaker monetary policy reaction, which has a lesser effect on unemployment at the expense of a slower correction in excess inflation.\"\n",
    "    elif chosenrate > 1:\n",
    "        message = \"With a value for beta higher than the benchmark price stability becomes more important. The central bank wants to curb excess inflation quicker, which requires a stronger increase in the interest rate and, therefore, a higher short run sacrifice in terms of unemployment. \"\n",
    "    else:\n",
    "        message = ''\n",
    "    if show_benchmark:\n",
    "        PlotStuff([after_policy[:15], optimal_policy[:15]], title='', after=False, auto=False, legend=True)\n",
    "        display(widgets.HTML(f'<h3>{message}</h3>'))\n",
    "    else:\n",
    "        PlotStuff([after_policy[:15]], title='', after=False, auto=False)\n",
    "        display(widgets.HTML(f'<h3>{message}</h3>'))\n",
    "\n",
    "\n",
    "beta = widgets.FloatSlider(1, min=0.25, max=4, step=0.25, description='CB beta')\n",
    "benchmark = widgets.Checkbox(value=True, description='Show benchmark (beta=1)')\n",
    "outtest = widgets.interactive_output(betafunc, {'slider': beta, 'show_benchmark': benchmark})\n",
    "\n",
    "with out3:\n",
    "    out3.clear_output()\n",
    "    display(beta, benchmark, outtest)\n",
    "\n"
   ]
  },
  {
   "cell_type": "code",
   "execution_count": 37,
   "metadata": {},
   "outputs": [
    {
     "data": {
      "application/vnd.jupyter.widget-view+json": {
       "model_id": "510438a25cc54686b6910c828b4a71ca",
       "version_major": 2,
       "version_minor": 0
      },
      "text/plain": [
       "Output(layout=Layout(border='2px solid gray', margin='0 0 0 0', padding='5px 5px 5px 5px'))"
      ]
     },
     "metadata": {},
     "output_type": "display_data"
    }
   ],
   "source": [
    "qout4 = widgets.Output(layout={'border': '2px solid gray', 'padding': '5px 5px 5px 5px', 'margin': '0 0 0 0'})\n",
    "qout4"
   ]
  },
  {
   "cell_type": "code",
   "execution_count": 38,
   "metadata": {},
   "outputs": [],
   "source": [
    "df4 = pd.read_excel('questionsexcel.xlsx', index_col='id').iloc[2].to_frame().transpose()\n",
    "qs4 = {}\n",
    "ans4 = {}\n",
    "msgs4 = {}\n",
    "\n",
    "for i in df4.index:\n",
    "    qs4[i] = [df4.loc[i]['question'], df4.loc[i]['c1'], df4.loc[i]['c2'], df4.loc[i]['c3']]\n",
    "    ans4[i] = [df4.loc[i]['a1'], df4.loc[i]['a2'], df4.loc[i]['a3']]\n",
    "    msgs4[i] = [df4.loc[i]['message1'], df4.loc[i]['message2'], df4.loc[i]['message3']]\n",
    "\n",
    "wlist4 = {}\n",
    "for q in qs4:\n",
    "    wlist4[q] = [qs4[q][0]]\n",
    "    for i in range(1, 4):\n",
    "        wlist4[q].append(widgets.Checkbox(description=qs4[q][i], style=style, layout=widgets.Layout(min_width='min-content')))\n",
    "\n",
    "qout4.clear_output()\n",
    "sub4 = widgets.Button(description='Submit')\n",
    "\n",
    "\n",
    "with qout4:\n",
    "    for q in wlist4:\n",
    "        display(widgets.HTML(value=f'<h4>{wlist4[q][0]}</h4>'))\n",
    "        for i in wlist4[q][1:]:\n",
    "            display(i)\n",
    "        print()\n",
    "    display(sub4)\n",
    "\n",
    "\n",
    "def on_sub4(b):\n",
    "    global ans4\n",
    "    global msgs4\n",
    "    qout4.clear_output(wait=True)\n",
    "    messages = {}\n",
    "    for q in wlist4:\n",
    "        messages[q] = []\n",
    "        for i in wlist4[q][1:]:\n",
    "            answer = i.value\n",
    "        for i in range(1, 4):\n",
    "            answer = wlist4[q][i].value\n",
    "            if answer == ans4[q][i-1]:\n",
    "                messages[q].append(('CORRECT', msgs4[q][i-1]))\n",
    "            else:\n",
    "                messages[q].append(('INCORRECT', msgs4[q][i-1]))    \n",
    "    with qout4:\n",
    "        # print('sub4mitted')\n",
    "        for q in wlist4:\n",
    "            display(widgets.HTML(value=f'<h4>{wlist4[q][0]}</h4>'))\n",
    "            for i in range(1, 4):\n",
    "                display(wlist4[q][i])\n",
    "                if messages[q][i-1][0] == 'CORRECT':\n",
    "                    display(widgets.HTML(f'<div style=\"background-color: rgb(161, 240, 161); max-width: fit-content;\"><p><div style=\"font-weight: bold; color: green\">{messages[q][i-1][0]}</div>{messages[q][i-1][1]}</p></div>'))\n",
    "                else:\n",
    "                    display(widgets.HTML(f'<div style=\"background-color: rgb(241, 151, 151); max-width: fit-content;\"><p><div style=\"font-weight: bold; color: red\">{messages[q][i-1][0]}</div>{messages[q][i-1][1]}</p></div>'))\n",
    "            print()\n",
    "            # print(messages[q])\n",
    "        display(sub4)\n",
    "\n",
    "sub4.on_click(on_sub4)"
   ]
  },
  {
   "cell_type": "markdown",
   "metadata": {},
   "source": [
    "<h1 style=\"color: #f05a5b; font-family: 'Trebuchet MS', 'Lucida Sans Unicode', sans-serif; font-weight: bold;\">\n",
    "    EXPERIMENTING WITH DIFFERENT INFLATION EXPECTATIONS FORMATION PROCESSES: ANCHORING VS INERTIA\n",
    "</h1>"
   ]
  },
  {
   "cell_type": "markdown",
   "metadata": {},
   "source": [
    "<h3>Inflation recovery is not just dependent on CB. Households and firms' expectations about inflation affect their behaviour. Explain how this relates to CB credibility. Then have interactive widget to show how CB credibility affects optimal response. </h3>"
   ]
  },
  {
   "cell_type": "markdown",
   "metadata": {},
   "source": [
    "Anchoring of inflation expectations relaxes the short run trade-off between inflation and unemployment that the central bank faces when dealing with an oil shock.\n",
    "\n",
    "The case with no anchoring is set as a benchmark and it matches with the cases considered in previous section [standard PC with expected inflation equal to last period’s inflation].\n"
   ]
  },
  {
   "cell_type": "code",
   "execution_count": 39,
   "metadata": {},
   "outputs": [
    {
     "name": "stderr",
     "output_type": "stream",
     "text": [
      "Initialized with cycles: True, while workbook says: False\n"
     ]
    }
   ],
   "source": [
    "excel3 = ExcelCompiler('simple sim endog cb inflation expectations.xlsx', cycles=True)"
   ]
  },
  {
   "cell_type": "code",
   "execution_count": 40,
   "metadata": {},
   "outputs": [
    {
     "data": {
      "application/vnd.jupyter.widget-view+json": {
       "model_id": "2c7c835f31654912aac681b3eee2e2b6",
       "version_major": 2,
       "version_minor": 0
      },
      "text/plain": [
       "Output(layout=Layout(border='2px solid gray', margin='0 0 0 0', padding='5px 5px 5px 5px'))"
      ]
     },
     "metadata": {},
     "output_type": "display_data"
    },
    {
     "data": {
      "application/vnd.jupyter.widget-view+json": {
       "model_id": "c973a07bd1944628b9cb45035d272a81",
       "version_major": 2,
       "version_minor": 0
      },
      "text/plain": [
       "Output()"
      ]
     },
     "metadata": {},
     "output_type": "display_data"
    }
   ],
   "source": [
    "out4 = widgets.Output(layout={'border': '2px solid gray', 'padding': '5px 5px 5px 5px', 'margin': '0 0 0 0'})\n",
    "display(out4)"
   ]
  },
  {
   "cell_type": "code",
   "execution_count": 41,
   "metadata": {},
   "outputs": [],
   "source": [
    "def credfunc(slider, show_benchmark):\n",
    "    # global figs, axs\n",
    "    excel3.evaluate('optimal!M8')\n",
    "    chosenrate = slider\n",
    "    excel3.set_value('optimal!M8', chosenrate)\n",
    "    excel3.recalculate()\n",
    "    after_policy = excel3.evaluate('optimal!A1:K30')\n",
    "    if show_benchmark:\n",
    "        PlotStuff([after_policy[:15], optimal_policy[:15]], title='', after=False, auto=False, legend=True)\n",
    "    else:\n",
    "        PlotStuff([after_policy[:15]], title='', after=False, auto=False)\n",
    "\n",
    "\n",
    "cred = widgets.FloatSlider(0, min=0, max=1, step=0.25, description='Level of Anchoring')\n",
    "benchmark = widgets.Checkbox(value=True, description='Show benchmark (cred=0)')\n",
    "outcred = widgets.interactive_output(credfunc, {'slider': cred, 'show_benchmark': benchmark})\n",
    "with out4:\n",
    "    out4.clear_output(wait=True)\n",
    "    display(cred, benchmark, outcred)"
   ]
  },
  {
   "cell_type": "markdown",
   "metadata": {},
   "source": [
    "With higher anchoring, inflation expectations are less affected by the temporary upsurge in inflation. Therefore, the central bank needs to increase the interest rate to a lesser extent in order to curve the increase in inflation. This result in both a lower short run increase in unemployment and a faster return of inflation to its pre-shock level. In the extreme case when there is full anchoring, the central bank just needs to adjust the interest rate to its new equilibrium level from the very onset in order to drive inflation back to its pre-shock level.\n"
   ]
  },
  {
   "cell_type": "code",
   "execution_count": 42,
   "metadata": {},
   "outputs": [
    {
     "data": {
      "application/vnd.jupyter.widget-view+json": {
       "model_id": "f54cc52d08a449dfbe77e8141e4673cd",
       "version_major": 2,
       "version_minor": 0
      },
      "text/plain": [
       "Output(layout=Layout(border='2px solid gray', margin='0 0 0 0', padding='5px 5px 5px 5px'))"
      ]
     },
     "metadata": {},
     "output_type": "display_data"
    }
   ],
   "source": [
    "qout5 = widgets.Output(layout={'border': '2px solid gray', 'padding': '5px 5px 5px 5px', 'margin': '0 0 0 0'})\n",
    "qout5"
   ]
  },
  {
   "cell_type": "code",
   "execution_count": 43,
   "metadata": {},
   "outputs": [],
   "source": [
    "df5 = pd.read_excel('questionsexcel.xlsx', index_col='id').iloc[3].to_frame().transpose()\n",
    "qs5 = {}\n",
    "ans5 = {}\n",
    "msgs5 = {}\n",
    "\n",
    "for i in df5.index:\n",
    "    qs5[i] = [df5.loc[i]['question'], df5.loc[i]['c1'], df5.loc[i]['c2'], df5.loc[i]['c3']]\n",
    "    ans5[i] = [df5.loc[i]['a1'], df5.loc[i]['a2'], df5.loc[i]['a3']]\n",
    "    msgs5[i] = [df5.loc[i]['message1'], df5.loc[i]['message2'], df5.loc[i]['message3']]\n",
    "\n",
    "wlist5 = {}\n",
    "for q in qs5:\n",
    "    wlist5[q] = [qs5[q][0]]\n",
    "    for i in range(1, 4):\n",
    "        wlist5[q].append(widgets.Checkbox(description=qs5[q][i], style=style, layout=widgets.Layout(min_width='min-content')))\n",
    "\n",
    "qout5.clear_output()\n",
    "sub5 = widgets.Button(description='Submit')\n",
    "\n",
    "\n",
    "with qout5:\n",
    "    for q in wlist5:\n",
    "        display(widgets.HTML(value=f'<h4>{wlist5[q][0]}</h4>'))\n",
    "        for i in wlist5[q][1:]:\n",
    "            display(i)\n",
    "        print()\n",
    "    display(sub5)\n",
    "\n",
    "\n",
    "def on_sub5(b):\n",
    "    global ans5\n",
    "    global msgs5\n",
    "    qout5.clear_output(wait=True)\n",
    "    messages = {}\n",
    "    for q in wlist5:\n",
    "        messages[q] = []\n",
    "        for i in wlist5[q][1:]:\n",
    "            answer = i.value\n",
    "        for i in range(1, 4):\n",
    "            answer = wlist5[q][i].value\n",
    "            if answer == ans5[q][i-1]:\n",
    "                messages[q].append(('CORRECT', msgs5[q][i-1]))\n",
    "            else:\n",
    "                messages[q].append(('INCORRECT', msgs5[q][i-1]))    \n",
    "    with qout5:\n",
    "        # print('sub5mitted')\n",
    "        for q in wlist5:\n",
    "            display(widgets.HTML(value=f'<h4>{wlist5[q][0]}</h4>'))\n",
    "            for i in range(1, 4):\n",
    "                display(wlist5[q][i])\n",
    "                if messages[q][i-1][0] == 'CORRECT':\n",
    "                    display(widgets.HTML(f'<div style=\"background-color: rgb(161, 240, 161); max-width: fit-content;\"><p><div style=\"font-weight: bold; color: green\">{messages[q][i-1][0]}</div>{messages[q][i-1][1]}</p></div>'))\n",
    "                else:\n",
    "                    display(widgets.HTML(f'<div style=\"background-color: rgb(241, 151, 151); max-width: fit-content;\"><p><div style=\"font-weight: bold; color: red\">{messages[q][i-1][0]}</div>{messages[q][i-1][1]}</p></div>'))\n",
    "            print()\n",
    "            # print(messages[q])\n",
    "        display(sub5)\n",
    "\n",
    "sub5.on_click(on_sub5)"
   ]
  },
  {
   "cell_type": "markdown",
   "metadata": {},
   "source": [
    "<h1 style=\"color: #f05a5b; font-family: 'Trebuchet MS', 'Lucida Sans Unicode', sans-serif; font-weight: bold;\">\n",
    "    Test Yourself\n",
    "</h1>"
   ]
  },
  {
   "cell_type": "markdown",
   "metadata": {},
   "source": [
    "Use the information and interactive tools above to answer the questions below."
   ]
  },
  {
   "cell_type": "code",
   "execution_count": null,
   "metadata": {},
   "outputs": [],
   "source": []
  }
 ],
 "metadata": {
  "kernelspec": {
   "display_name": "Python 3.10.5 64-bit",
   "language": "python",
   "name": "python3"
  },
  "language_info": {
   "codemirror_mode": {
    "name": "ipython",
    "version": 3
   },
   "file_extension": ".py",
   "mimetype": "text/x-python",
   "name": "python",
   "nbconvert_exporter": "python",
   "pygments_lexer": "ipython3",
   "version": "3.10.5"
  },
  "orig_nbformat": 4,
  "vscode": {
   "interpreter": {
    "hash": "bfb951cf4239d7e9a21639cd3f6aff722a5dd9312a453e687af2125473e9531c"
   }
  }
 },
 "nbformat": 4,
 "nbformat_minor": 2
}
