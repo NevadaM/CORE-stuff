{
 "cells": [
  {
   "cell_type": "code",
   "execution_count": null,
   "metadata": {},
   "outputs": [],
   "source": [
    "# Copyright (c) 2022 Neil Majithia\n",
    "# THE SOFTWARE IS PROVIDED \"AS IS\", WITHOUT WARRANTY OF ANY KIND, EXPRESS OR\n",
    "# IMPLIED, INCLUDING BUT NOT LIMITED TO THE WARRANTIES OF MERCHANTABILITY,\n",
    "# FITNESS FOR A PARTICULAR PURPOSE AND NONINFRINGEMENT. IN NO EVENT SHALL THE\n",
    "# AUTHORS OR COPYRIGHT HOLDERS BE LIABLE FOR ANY CLAIM, DAMAGES OR OTHER\n",
    "# LIABILITY, WHETHER IN AN ACTION OF CONTRACT, TORT OR OTHERWISE, ARISING FROM,\n",
    "# OUT OF OR IN CONNECTION WITH THE SOFTWARE OR THE USE OR OTHER DEALINGS IN THE\n",
    "# SOFTWARE."
   ]
  },
  {
   "cell_type": "code",
   "execution_count": null,
   "metadata": {},
   "outputs": [],
   "source": [
    "%matplotlib inline\n",
    "import ipywidgets as widgets\n",
    "import matplotlib.pyplot as plt\n",
    "import matplotlib.lines as mlines\n",
    "import os\n",
    "import pycel\n",
    "from pycel import ExcelCompiler\n",
    "import pandas as pd\n",
    "import gc\n",
    "\n",
    "\n",
    "filename = r'simple simulator unemployment.xlsx'\n",
    "plt.style.use('seaborn-poster')\n",
    "display(widgets.HTML('''<style>\n",
    "    p, h1, h2, h3, h4, ul, ol, li { max-width: 70vw !important; margin: 0px auto 5px auto !important;}\n",
    "    img {max-width:  !important; display: block; margin: 0px auto 1px auto !important;}\n",
    "    p, ul, ol { font-size: 1.4em !important}\n",
    "    .widget-label { min-width: min-content !important; }\n",
    "    /* .jp-RenderedHTMLCommon.jp-RenderedMarkdown.jp-MarkdownOutput { height: min-content; min-height: 35px;} */\n",
    "</style>'''))\n",
    "style = {'description_width': 'initial'}"
   ]
  },
  {
   "cell_type": "markdown",
   "metadata": {},
   "source": [
    "<h1 style=\"color: #f05a5b; font-family: 'Trebuchet MS', 'Lucida Sans Unicode', sans-serif; font-weight: bold;\">\n",
    "    Understanding Inflation and Central Bank Policy Choices\n",
    "</h1>"
   ]
  },
  {
   "cell_type": "code",
   "execution_count": null,
   "metadata": {},
   "outputs": [],
   "source": [
    "excel = ExcelCompiler(filename=filename,cycles=True)"
   ]
  },
  {
   "cell_type": "code",
   "execution_count": null,
   "metadata": {},
   "outputs": [],
   "source": [
    "shock_size = excel.evaluate('simulator!L7')\n",
    "no_policy = excel.evaluate('simulator!A1:J30')\n",
    "before_policy = excel.evaluate('simulator!A1:J6')\n",
    "after_policy = excel.evaluate('simulator!A1:J7')\n",
    "# to display use display(); for dataframe have to save and open with pandas"
   ]
  },
  {
   "cell_type": "code",
   "execution_count": null,
   "metadata": {},
   "outputs": [],
   "source": [
    "def PlotStuff(exceloutputs:list, title, after = False, show=True, auto=False, legend=False, shockline=True, shocktext=False, recoverytext=False):\n",
    "    '''Plots inflation and unemployment on side-by-side subplots'''\n",
    "    colourlist = ['#f05a5b', 'grey', 'pink']\n",
    "    figs, axs = plt.subplots(1, 4, figsize=[24, 8])\n",
    "    for data in exceloutputs:\n",
    "        colour = colourlist[exceloutputs.index(data)]\n",
    "        if after:\n",
    "            axs[0].plot([data[i][0] for i in range(1, len(data)-1)], [data[i][4] for i in range(1, len(data)-1)], colour)\n",
    "            axs[1].plot([data[i][0] for i in range(1, len(data)-1)], [data[i][3] for i in range(1, len(data)-1)], colour)\n",
    "            axs[2].plot([data[i][0] for i in range(1, len(data)-1)], [100*data[i][-1] for i in range(1, len(data)-1)], colour)\n",
    "            axs[3].plot([data[i][0] for i in range(1, len(data)-2)], [data[i][-3] for i in range(1, len(data)-2)], colour)\n",
    "            axs[0].plot([data[-2][0], data[-1][0]], [data[-2][4], data[-1][4]], 'black')\n",
    "            axs[1].plot([data[-2][0], data[-1][0]], [data[-2][3], data[-1][3]], 'black')\n",
    "            axs[2].plot([data[-2][0], data[-1][0]], [100*data[-2][-1], 100*data[-1][-1]], 'black')\n",
    "            axs[3].plot([data[-3][0], data[-2][0]], [data[-3][-3], data[-2][-3]], 'black')\n",
    "            axs[3].set_xlim(left=0.75, right=6.25)\n",
    "\n",
    "        else:\n",
    "            axs[0].plot([data[i][0] for i in range(1, len(data))], [data[i][4] for i in range(1, len(data))], colour)\n",
    "            axs[1].plot([data[i][0] for i in range(1, len(data))], [data[i][3] for i in range(1, len(data))], colour)\n",
    "            axs[2].plot([data[i][0] for i in range(1, len(data))], [100*data[i][-1] for i in range(1, len(data))], colour)\n",
    "            axs[3].plot([data[i][0] for i in range(1, len(data)-1)], [data[i][-3] for i in range(1, len(data)-1)], colour)\n",
    "            axs[0].plot(data[-1][0] + 1, data[-1][4])\n",
    "            axs[1].plot(data[-1][0] + 1, data[-1][3])\n",
    "            axs[2].plot(data[-1][0] + 1, 100*data[-1][-1])\n",
    "            axs[3].plot(data[-1][0] + 1, data[-1][-3])\n",
    "    axs[0].set_title('Inflation %')\n",
    "    axs[1].set_title('GDP')\n",
    "    axs[2].set_title('Unemployment %')\n",
    "    axs[3].set_title('Real Interest Rate %')\n",
    "    axs[0].set_xlabel('Period')\n",
    "    axs[1].set_xlabel('Period')\n",
    "    axs[2].set_xlabel('Period')\n",
    "    axs[3].set_xlabel('Period')\n",
    "    if shockline:\n",
    "        axs[0].vlines(x=4, ymin=0, ymax=200, color='silver', linestyles='dashed', label='shock')\n",
    "        axs[1].vlines(x=4, ymin=0, ymax=200, color='silver', linestyles='dashed', label='shock')\n",
    "        axs[2].vlines(x=4, ymin=0, ymax=200, color='silver', linestyles='dashed', label='shock')\n",
    "        axs[3].vlines(x=4, ymin=0, ymax=200, color='silver', linestyles='dashed', label='shock')\n",
    "        axs[0].vlines(x=5, ymin=0, ymax=200, color='silver', linestyles='dashed', label='shock')\n",
    "        axs[1].vlines(x=5, ymin=0, ymax=200, color='silver', linestyles='dashed', label='shock')\n",
    "        axs[2].vlines(x=5, ymin=0, ymax=200, color='silver', linestyles='dashed', label='shock')\n",
    "        axs[3].vlines(x=5, ymin=0, ymax=200, color='silver', linestyles='dashed', label='shock')\n",
    "    if shocktext:\n",
    "        axs[0].text(x=3.85, y=8.16, s='SHOCK', rotation='vertical', horizontalalignment='center')\n",
    "        axs[1].text(x=3.85, y=100.675, s='SHOCK', rotation='vertical', horizontalalignment='center')\n",
    "        axs[2].text(x=3.85, y=11.175, s='SHOCK', rotation='vertical', horizontalalignment='center')\n",
    "        axs[3].text(x=3.85, y=7.675, s='SHOCK', rotation='vertical', horizontalalignment='center')\n",
    "    if recoverytext:\n",
    "            axs[0].text(x=5.3, y=8.15, s='POLICY\\nREACTION', rotation='vertical', horizontalalignment='center')\n",
    "            axs[1].text(x=5.3, y=100.625, s='POLICY\\nREACTION', rotation='vertical', horizontalalignment='center')\n",
    "            axs[2].text(x=5.3, y=11.125, s='POLICY\\nREACTION', rotation='vertical', horizontalalignment='center')\n",
    "            axs[3].text(x=5.3, y=7.625, s='POLICY\\nREACTION', rotation='vertical', horizontalalignment='center')\n",
    "\n",
    "\n",
    "    if not auto:\n",
    "        axs[0].set_ylim(bottom=1.5, top=9)\n",
    "        axs[1].set_ylim(bottom=93.5, top=101.5)\n",
    "        axs[2].set_ylim(bottom=4, top=12)\n",
    "        axs[3].set_ylim(bottom=0.5, top=8.5)\n",
    "\n",
    "\n",
    "    figs.suptitle(title, fontsize=16)\n",
    "    \n",
    "    if legend:\n",
    "        label1 = mlines.Line2D([], [], color='#f05a5b', label='Your Choice')\n",
    "        label2 = mlines.Line2D([], [], color='grey', label='Benchmark')\n",
    "        axs[0].legend(handles=[label1, label2], bbox_to_anchor=(0.8, 1.2))\n",
    "        # axs[0].legend(handles=[label1, label2])\n",
    "\n",
    "    if show:\n",
    "        plt.show()\n",
    "    else:\n",
    "        return figs, axs\n",
    "\n",
    "def AppendtoPlot(figs, axs, new_excel):\n",
    "    axs[0].plot([new_excel[i][0] for i in range(1, len(new_excel))], [new_excel[i][4] for i in range(1, len(new_excel))])\n",
    "    axs[1].plot([new_excel[i][0] for i in range(1, len(new_excel))], [new_excel[i][3] for i in range(1, len(new_excel))])\n",
    "    axs[2].plot([new_excel[i][0] for i in range(1, len(new_excel))], [new_excel[i][-1] for i in range(1, len(new_excel))])\n",
    "    axs[3].plot([new_excel[i][0] for i in range(1, len(new_excel))], [new_excel[i][-3] for i in range(1, len(new_excel))])\n",
    "    return figs, axs\n",
    "    \n"
   ]
  },
  {
   "cell_type": "markdown",
   "metadata": {},
   "source": [
    "October 2022: The job of central banks in these years is like riding a rollercoaster. After having to fight with deflationary forces arising from the financial crisis in the late 2000’s and from the 2020-2021 COVID-19 pandemic, inflation became the number one public enemy during 2022. Several shocks that range from the disruption in the global production chain to increasing commodity prices due to the Ukraine war have increased CPI inflation to levels incompatible with central banks’ mandate of price stability. (see Figure 1)"
   ]
  },
  {
   "cell_type": "markdown",
   "metadata": {},
   "source": [
    "<img src='intrograph.jpg'>\n",
    "Figure 1\n",
    "Source: "
   ]
  },
  {
   "cell_type": "markdown",
   "metadata": {},
   "source": [
    "Central bankers may yearn for past too-low inflation scenarios where, if successful, monetary policy could yield both price stability and lower unemployment. Instead, when negative supply shocks - like an oil shock - hit the economy central bankers face a nasty trade-off between price stability and unemployment, at least in the short run. Bringing inflation down to hit the target in the short run is technically possible but, is it worth the economic downturn and the increase in unemployment that this would entail? Most central banks consider that it is not since they take the inflation target as a medium run goal. Within this time frame central banks face two uncertainties that condition their decision. \n",
    "* First, how persistent are the underlying shocks and/or may there be in the near future counterbalancing disinflationary shocks? \n",
    "* Second, how anchored are inflation expectations to the central bank’s inflation target and how serious is the danger of second round effects? \n",
    "A tight disinflationary policy could produce needless suffering if the underlying inflationary forces dissipate in the near future. However, a too timid response of monetary policy to inflation may trigger de-anchoring and second round effects that would push inflation further away from the target."
   ]
  },
  {
   "cell_type": "markdown",
   "metadata": {},
   "source": [
    "This interactive simulation can help you to understand some of the monetary policy dilemmas faced by central banks in the wake of the pandemic and the war in Ukraine explained above. \n",
    "* All the sections share the common feature of representing an economy hit by an inflationary supply shock (think of an oil price shock). \n",
    "* First, as a benchmark, the consequences of the shock for inflation are  shown assuming that monetary policy is passive and that expected inflation is equal to last period’s inflation, i.e.inflation expectations are not anchored to the central bank’s inflation target. . \n",
    "* In the second section you take charge of monetary policy and use your interest rate choice to  change the consequences of the shock for the first period after the shock. Here you will experience the short run trade-off implied in this monetary policy decision. \n",
    "* In the third section you can compare the no-policy reaction benchmark with two alternative monetary policy paths: an active but too timid monetary policy and one that succeeds in reducing inflation. . \n",
    "* In the fourth section you can put yourself in the skin of central banks with different degrees of inflation aversion to see that optimal monetary policy is compatible with different degrees of tightening. \n",
    "* Finally, the last section introduces inflation anchoring for the first time. It reveals why anchoring inflation expectations is so important to central banks because it allows monetary policy to bring inflation back to the target quicker and with lower unemployment costs.\n"
   ]
  },
  {
   "cell_type": "markdown",
   "metadata": {},
   "source": [
    "<h2 style=\"color: #f05a5b; font-family: 'Trebuchet MS', 'Lucida Sans Unicode', sans-serif; font-weight: bold;\">\n",
    "    The Supply Shock\n",
    "</h2>"
   ]
  },
  {
   "cell_type": "markdown",
   "metadata": {},
   "source": [
    "When the price of imported energy and or commodities goes up, certain goods such as fuel or food become more expensive for the consumer. Costs of production go up as well and firms try to pass-through these higher costs to final prices. These effects happen relatively quickly and concentrate in the first period, as shown in the figure below (Fig. 2). What happens in the following periods depends on policy. In the following sections you can explore different policy options and scenarios."
   ]
  },
  {
   "cell_type": "markdown",
   "metadata": {},
   "source": [
    "<img src=\"supplyshockintrograph.jpg\">\n",
    "Figure 2"
   ]
  },
  {
   "cell_type": "markdown",
   "metadata": {},
   "source": [
    "<h2 style=\"color: #f05a5b; font-family: 'Trebuchet MS', 'Lucida Sans Unicode', sans-serif; font-weight: bold;\">\n",
    "    No Policy Reaction\n",
    "</h2>"
   ]
  },
  {
   "cell_type": "markdown",
   "metadata": {},
   "source": [
    "<h3>If there is no policy response to the rise in inflation caused by the oil shock,  the situation quickly spirals out of control as inflation rises period by period (Fig. 3)</h3>"
   ]
  },
  {
   "cell_type": "code",
   "execution_count": null,
   "metadata": {},
   "outputs": [],
   "source": [
    "fig, ax = plt.subplots(1, 1, figsize = [12, 6])\n",
    "ax.plot([no_policy[i][0] for i in range(1, 16)], [no_policy[i][4] for i in range(1, 16)], '#f05a5b')\n",
    "ax.set_title('An inflation shock with no policy response')\n",
    "ax.set_ylabel('Inflation %')\n",
    "ax.set_xlabel('Period')\n",
    "ax.xaxis.set_ticks(range(1, 16))\n",
    "\n",
    "plt.show()"
   ]
  },
  {
   "cell_type": "markdown",
   "metadata": {},
   "source": [
    "Figure3"
   ]
  },
  {
   "cell_type": "markdown",
   "metadata": {},
   "source": [
    "When the price of oil increases, inflation goes up in the shock period due to the increase in the price of fuel for consumers and the pass-through of the increase in firms’ costs to final prices. This increase in inflation has two effects relevant for next period:\n",
    "\n",
    "* First, it reduces the purchasing power of workers, which means that workers’ real wages are below the level consistent with the state of the labour market. [The real wage shown by the PS curve falls below the real wage on the WS curve. i.e., the PS curve shifts down.]\n",
    "* Second, the increase in inflation increases inflation expectations for the future. [The PC curve shifts up.]\n",
    "\n",
    "Due to these two effects, in the next period nominal wages increase faster both to offset the loss in purchasing power due to the unexpected increase in past inflation and to avoid erosion of purchasing power due to higher expected inflation. Wage setters are frustrated in the attempt to restore the real wage to its initial level [on the WS curve]. Firms pass on the increase in unit labour costs arising from the rise in nominal wages to final prices to sustain their profit margin, increasing inflation above expected inflation. Therefore, in each period thereafter the attempt to restore workers’ purchasing power will maintain nominal wage growth and inflation above expected inflation, fueling an inflation spiral."
   ]
  },
  {
   "cell_type": "markdown",
   "metadata": {},
   "source": [
    "<h2 style=\"color: #f05a5b; font-family: 'Trebuchet MS', 'Lucida Sans Unicode', sans-serif; font-weight: bold;\">\n",
    "    You choose: Monetary Policy Reaction to an Inflation Shock \n",
    "</h2>"
   ]
  },
  {
   "cell_type": "markdown",
   "metadata": {},
   "source": [
    "<h3>There's been a permanent inflation shock in period 5.</h3> \n"
   ]
  },
  {
   "cell_type": "markdown",
   "metadata": {},
   "source": [
    "<p>Pretend you're the Central Bank - use the slider to choose a real interest rate for the next period to try and stabilise inflation, and note how your choice affects the rest of the economy too. </p>"
   ]
  },
  {
   "cell_type": "code",
   "execution_count": null,
   "metadata": {},
   "outputs": [],
   "source": [
    "out = widgets.Output(layout={'border': '2px solid gray', 'padding': '5px 5px 5px 5px', 'margin': '0 auto 0 auto', 'max_width': '70vw'})\n",
    "display(out)"
   ]
  },
  {
   "cell_type": "markdown",
   "metadata": {},
   "source": [
    "Fig 4"
   ]
  },
  {
   "cell_type": "code",
   "execution_count": null,
   "metadata": {},
   "outputs": [],
   "source": [
    "r = widgets.IntSlider(1, 1, 7, description='Post-Shock Interest Rate')\n",
    "sub = widgets.Button(description='Submit')\n",
    "reset = widgets.Button(description='Reset')\n",
    "\n",
    "\n",
    "with out:\n",
    "    out.clear_output(wait=True)\n",
    "    display(widgets.HBox((r, sub)))\n",
    "    # display(before_policy)\n",
    "    PlotStuff([before_policy], title='', shocktext=True, recoverytext=True, auto=False)\n",
    "\n",
    "\n",
    "def on_sub(b):\n",
    "    excel.evaluate('simulator!H6')\n",
    "    chosenrate = r.value\n",
    "    excel.set_value('simulator!H6', chosenrate)\n",
    "    excel.recalculate()\n",
    "    after_policy = excel.evaluate('simulator!A1:J7')\n",
    "    with out:\n",
    "        out.clear_output(wait=True)\n",
    "        display(widgets.HBox((r, sub, reset)))\n",
    "        display(widgets.HTML(f'<p>You chose a rate of {chosenrate}% - see below for its effects.</p>'))\n",
    "        # display(excel.evaluate('simulator!H6'))\n",
    "        # display(after_policy)\n",
    "        PlotStuff([after_policy], title='', after=True, shocktext=True, recoverytext=True, auto=False)\n",
    "        if chosenrate == 4:\n",
    "            display(widgets.HTML('<h3>You have stabilised inflation - congratulations.</h3>'))\n",
    "            display(widgets.HTML('<p>This is because you have chosen an interest rate equal to the stabilizing real interest rate [on the IS curve at the new lower equilibrium level of output]. However, your success in stopping the inflation spiral has been at the expense of an increase in unemployment. Increasing the interest rate you have reduced aggregate demand. With lower demand for final goods and services firms reduce labour demand, which increases unemployment. Higher unemployment reduces the workers\\' reservation wage and makes wage setters accept a fall in the real wage, although of lower magnitude than the erosion in real wage caused by the oil shock. [This is a move along the WS curve.] Now the wage-setting real wage exactly matches the real wage consistent with firms\\' price-setting behaviour and the higher oil price [on the lower PS curve]. Therefore, after your policy choice nominal wage growth and therefore actual inflation are equal to expected and past inflation. This is why inflation remains constant. [The PC curve does not shift upward.]</p>'))\n",
    "            display(widgets.HTML('<h4>You have stabilized inflation but unemployment is higher and inflation, although stable, is higher than the central bank\\'s target, which we assume was the pre-existing rate of inflation.</h4>'))\n",
    "            print()\n",
    "        elif 1 <= chosenrate < 4:\n",
    "            display(widgets.HTML('<h3>Inflation is still getting higher, and meanwhile unemployment is getting worse too! </h3>'))\n",
    "            display(widgets.HTML('<p>This is because you have chosen an interest rate lower than the stabilizing level. Therefore, you have not stopped the inflation spiral, although it proceeds more slowly after your policy choice. [The stabilizing real interest rate has gone up because equilibrium output is now lower.]</p>'))\n",
    "            display(widgets.HTML('<p>By increasing the interest rate, you have reduced aggregate demand. With lower demand for final goods and services, firms reduce labour demand, which increases unemployment. Higher unemployment reduces the workers\\' reservation wage and makes wage setters accept a fall in the real wage, although of lower magnitude than the erosion in real wage caused by the oil shock. [This is a move along the WS curve.] Therefore, after the policy choice the wage-setting real wage is still higher than the real wage consistent with firms\\' price-setting behaviour [the wage on the WS is still above that on the on the lower PS curve] and conditions in the labour market meant that wage setters still seek to increase the purchasing power of workers. Thus, they set nominal wage growth (and effectively, inflation) above expected and past inflation. This is why inflation is still on an upwards path, although a more moderate one due to the partial acceptance as a result of higher unemployment of the dent made in real wages by the shock.</p>'))\n",
    "            display(widgets.HTML('<h4>With your policy choice you have driven the economy to a stagflation scenario, that is, a situation that combines an increase in both inflation and unemployment.</h4>'))\n",
    "            print()\n",
    "        elif 4 < chosenrate < 7:\n",
    "            display(widgets.HTML('<h3>Inflation is heading back down to the central bank\\'s target. This is because you have chosen an interest rate higher than the stabilizing level. However, employment is tanking due to your policy choice.</h3>'))\n",
    "            display(widgets.HTML('<p>Increasing the interest rate you have reduced aggregate demand. With lower demand for final goods and services, firms reduce labour demand, which increases unemployment. Higher unemployment reduces the workers\\' reservation wage and makes wage setters accept a fall in the real wage [a move along the WS curve]. This effect is so strong that now the wage-setting real wage is lower than the real wage consistent with firms\\' price-setting behaviour and the higher oil price [on the lower PS curve]. The acceptance – due to the deterioration in the labour market – of further reductions in the real wage translates into setting nominal wage growth (and effectually inflation) below expected and past inflation. This is why inflation falls [the PC shifts down].</p>'))\n",
    "            display(widgets.HTML('<h4>Despite your policy having reduced inflation, this is still higher than its pre-shock value. In the following periods you would need to keep the interest rate above its stabilizing level to drive inflation back to its pre-shock value (the central bank\\'s target). [the PC would keep shifting down period by period]</h4>'))\n",
    "            print()\n",
    "        elif chosenrate == 7:\n",
    "            display(widgets.HTML('<h3>You have chosen an interest rate higher than the equilibrium level and enough to drive inflation back to its pre-shock value. However, the cost of your policy shock in terms of unemployment is the highest.</h3>'))\n",
    "            display(widgets.HTML('<p>Increasing the interest rate you have reduced aggregate demand. With lower demand for final goods and services firms reduce labour demand, which increases unemployment. Higher unemployment reduces the workers\\' reservation wage and makes wage setters accept a fall in the real wage [a move along the WS curve]. This effect is so strong that now the wage-setting real wage is lower than the real wage consistent with firms\\' price-setting behaviour and the higher oil price [on the lower PS curve]. The acceptance – due to the deterioration in the labour market – of further reductions in the real wage translates into setting nominal wage growth (and effectually inflation) below expected and past inflation. This is why inflation falls [the PC shifts down].</p>'))\n",
    "            display(widgets.HTML('<h4>Since you have hit the pre-shock inflation value (the central bank\\'s target), then in the following period you would just need to adjust the interest rate to its equilibrium level. This is a \\'shock therapy\\' approach to the problem.</h4>'))\n",
    "            print()\n",
    "\n",
    "def on_reset(b):\n",
    "    with out:\n",
    "        out.clear_output(wait=True)\n",
    "        display(widgets.HBox((r, sub)))\n",
    "        # display(before_policy)\n",
    "        PlotStuff([before_policy], title='', shocktext=True, recoverytext=True, auto=False)\n",
    "\n",
    "sub.on_click(on_sub)\n",
    "reset.on_click(on_reset)\n"
   ]
  },
  {
   "cell_type": "markdown",
   "metadata": {},
   "source": [
    "<h3 style=\"color: #f05a5b; font-family: 'Trebuchet MS', 'Lucida Sans Unicode', sans-serif; font-weight: bold;\">\n",
    "   Test Yourself\n",
    "</h3>"
   ]
  },
  {
   "cell_type": "markdown",
   "metadata": {},
   "source": [
    "1. You can verify that choosing the appropriate interest rate, the central bank manages to bring the inflation back to target. But could the central bank do it even better, in terms of inflation? Discuss if the central bank could avoid the increase of inflation in the shock period. Why or why not?\n",
    "2. Answer the following questions:\n",
    "\n",
    "&ensp;&ensp;a. Choosing different values for the interest rate, try to gauge the sensitivity of GDP with respect to the interest rate and the slope coefficient for the Phillips curve (hint: both are integers).\n",
    "    \n",
    "&ensp;&ensp;b. There is evidence that the Phillips curve has flattened during the lasts decades (see, for instance, <a href='https://www.ecb.europa.eu/press/key/date/2021/html/ecb.sp211007~ab617e7d60.en.html'>Prospects for inflation: sneezes and breezes (europa.eu)</a>). Discuss how the flattening of the Phillips curve may affect the cost of bringing inflation down after the supply shock."
   ]
  },
  {
   "cell_type": "markdown",
   "metadata": {},
   "source": [
    "<h2 style=\"color: #f05a5b; font-family: 'Trebuchet MS', 'Lucida Sans Unicode', sans-serif; font-weight: bold;\">\n",
    "   Comparing Different Reactions by the Central Bank to an Oil Shock \n",
    "</h2>"
   ]
  },
  {
   "cell_type": "markdown",
   "metadata": {},
   "source": [
    "<h3>In response to an inflation shock, a Central Bank could have different approaches to recovery - each with their own costs and benefits over both short and long term.</h3>\n",
    "\n",
    "Use Figure 5 to explore the whole path of the economy following different policy choices.Look first at the path of the real interest rate to see what the Central Bank does; then look at the outcomes for the economy.\n"
   ]
  },
  {
   "cell_type": "code",
   "execution_count": null,
   "metadata": {},
   "outputs": [],
   "source": [
    "excel1 = ExcelCompiler(filename=filename,cycles=True)\n",
    "excel1.evaluate('simulator!H6')\n",
    "excel1.set_value('simulator!H6', 1)\n",
    "excel1.recalculate()\n",
    "no_change_policy = excel1.evaluate('simulator!A1:J30')\n",
    "excel2 = ExcelCompiler(filename='simple sim endog cb.xlsx', cycles=True)\n",
    "timid_policy = excel2.evaluate('timid!A1:K30')\n",
    "optimal_policy = excel2.evaluate('optimal!A1:K30')\n"
   ]
  },
  {
   "cell_type": "code",
   "execution_count": null,
   "metadata": {},
   "outputs": [],
   "source": [
    "out2 = widgets.Output(layout={'border': '2px solid gray', 'padding': '5px 5px 5px 5px', 'margin': '0 auto 0 auto', 'max_width': '70vw'})\n",
    "display(out2)"
   ]
  },
  {
   "cell_type": "markdown",
   "metadata": {},
   "source": [
    "Figure 5"
   ]
  },
  {
   "cell_type": "code",
   "execution_count": null,
   "metadata": {},
   "outputs": [],
   "source": [
    "title = widgets.HTML('<h2> Comparing types of central banks </h2>')\n",
    "dropdown = widgets.Dropdown(options=['Select an option from below', 'CB that wants to avoid higher unemployment despite equilibrium change',\n",
    " 'CB that slowly accepts change to unemployment', \n",
    " 'CB that accepts costly recession and unemployment below equilibrium to prioritise inflation'], value='Select an option from below', layout={'width': 'max-content'}, description='')\n",
    "\n",
    "def get_plots(CB):\n",
    "    if CB == 'CB that wants to avoid higher unemployment despite equilibrium change':\n",
    "        PlotStuff([no_change_policy[:15]], title='CB that wants to avoid change to unemployment despite equilibrium change', after=False, auto=False)\n",
    "        display(widgets.HTML('<h2>Leaving policy unchanged is not sustainable</h2>'))\n",
    "        display(widgets.HTML('<p>As shown previously, an unchanged interest rate ensures an unsustainable inflation spiral.</p>'))\n",
    "    elif CB == 'CB that slowly accepts change to unemployment':\n",
    "        PlotStuff([timid_policy[:15]], title='CB that slowly accepts change to unemployment',after=False)\n",
    "        display(widgets.HTML('<h2>A slow response has short term benefits with a soft landing, at the expense of permanently high inflation</h2>'))\n",
    "        display(widgets.HTML('<p>In this case, the central bank slowly adjusts from below the policy rate to its equilibrium level. The increases in the interest rate are not enough to drive inflation down since the interest rate is always below its stabilizing value. As a result, inflation keeps increasing. Eventually, inflation stabilizes at a level above its pre-shock value when the interest rate hits its equilibrium value. At this point, high inflation is entrenched by higher inflation expectations resulting from a prolonged period of excess inflation.</p>'))\n",
    "        display(widgets.HTML('<p>It can be seen that in the short run this policy option may seem attractive, since it implies that neither inflation nor unemployment is very high. However, in the medium run it implies both excess inflation and higher unemployment.</p>'))\n",
    "    elif CB == 'CB that accepts costly recession and unemployment below equilibrium to prioritise inflation':\n",
    "        PlotStuff([optimal_policy[:15]], title='CB that accepts costly recession and unemployment below equilibrium to prioritise inflation', after=False)\n",
    "        display(widgets.HTML('<h2>A costly recession, engineered by the CB with high interest rates, brings inflation under control but could be </h2>'))\n",
    "        display(widgets.HTML('<p>In this case, the central bank responds quickly and strongly to the oil shock, increasing the interest rate above its equilibrium value from the outset. The short run sacrifice in terms of unemployment is severe, but it is necessary if the central bank wants to wipe out the effects of the shock on inflation. Doing this, the central bank avoids a permanent increase in inflation expectations, which allows a relaxation of monetary policy in the medium run to the new equilibrium at higher unemployment and a higher stabilizing interest rate. </p>'))\n",
    "    else:\n",
    "        display(widgets.HTML('<h3>Choose a CB behaviour from the Dropdown to see its performance, benefits and costs</h3>'))\n",
    "\n",
    "\n",
    "with out2:\n",
    "    out2.clear_output(wait=True)\n",
    "    display(title)\n",
    "    widgets.interact(get_plots, CB=dropdown)\n",
    "    # display(inter)\n",
    "    # PlotStuff(no_change_policy[:15], title='CB that wants to avoid change to unemployment despite equilibrium change', after=False)\n",
    "    # PlotStuff(timid_policy[:15], title='CB that slowly accepts change to unemployment',after=False)\n",
    "    # PlotStuff(optimal_policy[:15], title='CB that accepts costly recession and unemployment below equilibrium to prioritise inflation', after=False)\n"
   ]
  },
  {
   "cell_type": "code",
   "execution_count": null,
   "metadata": {},
   "outputs": [],
   "source": [
    "qout2 = widgets.Output(layout={'border': '2px solid gray', 'padding': '5px 5px 5px 5px', 'margin': '0 auto 0 auto', 'max_width': '70vw'})\n",
    "qout2"
   ]
  },
  {
   "cell_type": "code",
   "execution_count": null,
   "metadata": {},
   "outputs": [],
   "source": [
    "df2 = pd.read_excel('questionsexcel.xlsx', index_col='id').iloc[0].to_frame().transpose()\n",
    "qs2 = {}\n",
    "ans2 = {}\n",
    "msgs2 = {}\n",
    "\n",
    "for i in df2.index:\n",
    "    qs2[i] = [df2.loc[i]['question'], df2.loc[i]['c1'], df2.loc[i]['c2'], df2.loc[i]['c3']]\n",
    "    ans2[i] = [df2.loc[i]['a1'], df2.loc[i]['a2'], df2.loc[i]['a3']]\n",
    "    msgs2[i] = [df2.loc[i]['message1'], df2.loc[i]['message2'], df2.loc[i]['message3']]\n",
    "\n",
    "wlist2 = {}\n",
    "for q in qs2:\n",
    "    wlist2[q] = [qs2[q][0]]\n",
    "    for i in range(1, 4):\n",
    "        wlist2[q].append(widgets.Checkbox(description=qs2[q][i], style=style, layout=widgets.Layout(min_width='min-content')))\n",
    "\n",
    "qout2.clear_output()\n",
    "sub2 = widgets.Button(description='Check my answers')\n",
    "tryagain2 = widgets.Button(description='Try Again')\n",
    "\n",
    "\n",
    "with qout2:\n",
    "    for q in wlist2:\n",
    "        display(widgets.HTML(value=f'<h4>{wlist2[q][0]}</h4>'))\n",
    "        for i in wlist2[q][1:]:\n",
    "            display(i)\n",
    "        print()\n",
    "    display(sub2)\n",
    "\n",
    "\n",
    "def on_sub2(b):\n",
    "    global ans2\n",
    "    global msgs2\n",
    "    qout2.clear_output(wait=True)\n",
    "    messages = {}\n",
    "    correct = [None, None, None]\n",
    "    answers = []\n",
    "    for q in wlist2:\n",
    "        messages[q] = []\n",
    "        for i in wlist2[q][1:]:\n",
    "            answer = i.value\n",
    "            answers.append(answer)\n",
    "        for i in range(1, 4):\n",
    "            answer = wlist2[q][i].value\n",
    "            if answer == ans2[q][i-1]:\n",
    "                messages[q].append(msgs2[q][i-1])\n",
    "                correct[i-1] = True\n",
    "            elif answer != ans2[q][i-1]:\n",
    "                messages[q].append(msgs2[q][i-1])\n",
    "                correct[i-1] = False    \n",
    "    with qout2:\n",
    "        # print('sub2mitted')\n",
    "        for q in wlist2:\n",
    "            display(widgets.HTML(value=f'<h3>{wlist2[q][0]}</h3>'))\n",
    "            for i in range(1, 4):\n",
    "                display(wlist2[q][i])\n",
    "                # if messages[q][i-1][0] == 'CORRECT':\n",
    "                #     display(widgets.HTML(f'<div style=\"background-color: rgb(161, 230, 161); max-width: fit-content;\"><p><div style=\"font-weight: bold; color: green\">{messages[q][i-1][0]}</div>{messages[q][i-1][1]}</p></div>'))\n",
    "                # else:\n",
    "                #     display(widgets.HTML(f'<div style=\"background-color: rgb(231, 151, 151); max-width: fit-content;\"><p><div style=\"font-weight: bold; color: red\">{messages[q][i-1][0]}</div>{messages[q][i-1][1]}</p></div>'))\n",
    "            # print(messages[q])\n",
    "            for i in range(3):\n",
    "                if correct[i] == False:\n",
    "                    if ans2[q][i] == True:\n",
    "                        #user did not select, but answer is True\n",
    "                        notall = True\n",
    "                    else:\n",
    "                        #user chose true, answer is false\n",
    "                        notall = False\n",
    "                        break\n",
    "            if correct == [True, True, True]:\n",
    "                # display(widgets.HTML(f'<div style=\"background-color: rgb(161, 230, 161); max-width: fit-content;\"><p>CORRECT</p><p>{messages[q]}</p></div>'))\n",
    "                display(widgets.HTML(f'<p style=\"font-weight: bold; color: green\">CORRECT</p>'))\n",
    "                for i in range(3):\n",
    "                    if ans2[q][i] == True:\n",
    "                        display(widgets.HTML(f'<p>{messages[q][i]}</p>'))\n",
    "            elif notall:\n",
    "                display(widgets.HTML(f'<p style=\"font-weight: bold;\">You haven\\'t selected all the correct answers</p>'))\n",
    "            else:\n",
    "                # display(widgets.HTML(f'<div style=\"background-color: rgb(231, 151, 151); max-width: fit-content;\"><p>INCORRECT</p>'))\n",
    "                display(widgets.HTML(f'<p style=\"font-weight: bold; color: red\">INCORRECT</p>'))\n",
    "                for i in range(3):\n",
    "                    if correct[i] == False and ans2[q][i] == False:\n",
    "                        display(widgets.HTML(f'<p>{messages[q][i]}</p>'))\n",
    "\n",
    "                # display(widgets.HTML('</div>'))\n",
    "        display(tryagain2)\n",
    "        \n",
    "\n",
    "sub2.on_click(on_sub2)\n",
    "tryagain2.on_click(on_sub2)"
   ]
  },
  {
   "cell_type": "code",
   "execution_count": null,
   "metadata": {},
   "outputs": [],
   "source": [
    "qout3 = widgets.Output(layout={'border': '2px solid gray', 'padding': '5px 5px 5px 5px', 'margin': '0 auto 0 auto', 'max_width': '70vw'})\n",
    "qout3"
   ]
  },
  {
   "cell_type": "code",
   "execution_count": null,
   "metadata": {},
   "outputs": [],
   "source": [
    "df3 = pd.read_excel('questionsexcel.xlsx', index_col='id').iloc[1].to_frame().transpose()\n",
    "qs3 = {}\n",
    "ans3 = {}\n",
    "msgs3 = {}\n",
    "\n",
    "for i in df3.index:\n",
    "    qs3[i] = [df3.loc[i]['question'], df3.loc[i]['c1'], df3.loc[i]['c2'], df3.loc[i]['c3']]\n",
    "    ans3[i] = [df3.loc[i]['a1'], df3.loc[i]['a2'], df3.loc[i]['a3']]\n",
    "    msgs3[i] = [df3.loc[i]['message1'], df3.loc[i]['message2'], df3.loc[i]['message3']]\n",
    "\n",
    "wlist3 = {}\n",
    "for q in qs3:\n",
    "    wlist3[q] = [qs3[q][0]]\n",
    "    for i in range(1, 4):\n",
    "        wlist3[q].append(widgets.Checkbox(description=qs3[q][i], style=style, layout=widgets.Layout(min_width='min-content')))\n",
    "\n",
    "qout3.clear_output()\n",
    "sub3 = widgets.Button(description='Check my answers')\n",
    "tryagain3 = widgets.Button(description='Try Again')\n",
    "\n",
    "\n",
    "with qout3:\n",
    "    for q in wlist3:\n",
    "        display(widgets.HTML(value=f'<h4>{wlist3[q][0]}</h4>'))\n",
    "        for i in wlist3[q][1:]:\n",
    "            display(i)\n",
    "        print()\n",
    "    display(sub3)\n",
    "\n",
    "\n",
    "def on_sub3(b):\n",
    "    global ans3\n",
    "    global msgs3\n",
    "    qout3.clear_output(wait=True)\n",
    "    messages = {}\n",
    "    correct = [None, None, None]\n",
    "    answers = []\n",
    "    for q in wlist3:\n",
    "        messages[q] = []\n",
    "        for i in wlist3[q][1:]:\n",
    "            answer = i.value\n",
    "            answers.append(answer)\n",
    "        for i in range(1, 4):\n",
    "            answer = wlist3[q][i].value\n",
    "            if answer == ans3[q][i-1]:\n",
    "                messages[q].append(msgs3[q][i-1])\n",
    "                correct[i-1] = True\n",
    "            elif answer != ans3[q][i-1]:\n",
    "                messages[q].append(msgs3[q][i-1])\n",
    "                correct[i-1] = False    \n",
    "    with qout3:\n",
    "        # print('sub3mitted')\n",
    "        for q in wlist3:\n",
    "            display(widgets.HTML(value=f'<h3>{wlist3[q][0]}</h3>'))\n",
    "            for i in range(1, 4):\n",
    "                display(wlist3[q][i])\n",
    "                # if messages[q][i-1][0] == 'CORRECT':\n",
    "                #     display(widgets.HTML(f'<div style=\"background-color: rgb(161, 230, 161); max-width: fit-content;\"><p><div style=\"font-weight: bold; color: green\">{messages[q][i-1][0]}</div>{messages[q][i-1][1]}</p></div>'))\n",
    "                # else:\n",
    "                #     display(widgets.HTML(f'<div style=\"background-color: rgb(231, 151, 151); max-width: fit-content;\"><p><div style=\"font-weight: bold; color: red\">{messages[q][i-1][0]}</div>{messages[q][i-1][1]}</p></div>'))\n",
    "            # print(messages[q])\n",
    "            for i in range(3):\n",
    "                if correct[i] == False:\n",
    "                    if ans3[q][i] == True:\n",
    "                        #user did not select, but answer is True\n",
    "                        notall = True\n",
    "                    else:\n",
    "                        #user chose true, answer is false\n",
    "                        notall = False\n",
    "                        break\n",
    "            if correct == [True, True, True]:\n",
    "                # display(widgets.HTML(f'<div style=\"background-color: rgb(161, 230, 161); max-width: fit-content;\"><p>CORRECT</p><p>{messages[q]}</p></div>'))\n",
    "                display(widgets.HTML(f'<p style=\"font-weight: bold; color: green\">CORRECT</p>'))\n",
    "                for i in range(3):\n",
    "                    if ans3[q][i] == True:\n",
    "                        display(widgets.HTML(f'<p>{messages[q][i]}</p>'))\n",
    "            elif notall:\n",
    "                display(widgets.HTML(f'<p style=\"font-weight: bold;\">You haven\\'t selected all the correct answers</p>'))\n",
    "            else:\n",
    "                # display(widgets.HTML(f'<div style=\"background-color: rgb(231, 151, 151); max-width: fit-content;\"><p>INCORRECT</p>'))\n",
    "                display(widgets.HTML(f'<p style=\"font-weight: bold; color: red\">INCORRECT</p>'))\n",
    "                for i in range(3):\n",
    "                    if correct[i] == False and ans3[q][i] == False:\n",
    "                        display(widgets.HTML(f'<p>{messages[q][i]}</p>'))\n",
    "\n",
    "                # display(widgets.HTML('</div>'))\n",
    "        display(tryagain3)\n",
    "        \n",
    "\n",
    "sub3.on_click(on_sub3)\n",
    "tryagain3.on_click(on_sub3)"
   ]
  },
  {
   "cell_type": "markdown",
   "metadata": {},
   "source": [
    "<h3 style=\"color: #f05a5b; font-family: 'Trebuchet MS', 'Lucida Sans Unicode', sans-serif; font-weight: bold;\">\n",
    "   Test Yourself\n",
    "</h3>"
   ]
  },
  {
   "cell_type": "markdown",
   "metadata": {},
   "source": [
    "1. Consider the following words taken from a 2022 speech by Jerome Powell, chairman of the US Federal Reserve (https://www.federalreserve.gov/newsevents/speech/powell20220826a.htm): <i>\"Reducing inflation is likely to require a sustained period of below-trend growth. Moreover, there will very likely be some softening of labor market conditions. While higher interest rates, slower growth, and softer labor market conditions will bring down inflation, they will also bring some pain to households and businesses. These are the unfortunate costs of reducing inflation. But a failure to restore price stability would mean far greater pain.(…) During the 1970s, as inflation climbed, the anticipation of high inflation became entrenched in the economic decision making of households and businesses. The more inflation rose, the more people came to expect it to remain high, and they built that belief into wage and pricing decisions. (…) History shows that the employment costs of bringing down inflation are likely to increase with delay, as high inflation becomes more entrenched in wage and price setting. The successful Volcker disinflation in the early 1980s followed multiple failed attempts to lower inflation over the previous 15 years. A lengthy period of very restrictive monetary policy was ultimately needed to stem the high inflation and start the process of getting inflation down to the low and stable levels that were the norm until the spring of last year. Our aim is to avoid that outcome by acting with resolve now.\"</i>\n",
    "\n",
    "After reading the text, answer the following questions:\n",
    "\n",
    "a. What do you think Mr. Powell means with <i>\"softening of labor market conditions\"</i>?\n",
    "\n",
    "b. Which of the two active policy scenarios (\"CB that slowly accepts change to unemployment\" and \"CB that accepts costly recession and unemployment below equilibrium to prioritise inflation\") better fits the 1970’s experience described by Powell? Why?\n",
    "\n",
    "c. Which of the two active policy scenarios better fits Jerome Powell’s intentions in 2022? Why?\n",
    "\n",
    "d. Consider scenario number 3 where the central bank quickly reacts to the shock. You can see that in this scenario the interest rate and the unemployment rate peak to 5,5% and 9%, respectively. Now consider scenario number 2 and let us imagine that in period 15 the central bank resolves to tighten monetary policy in order to bring inflation back to the target. How tight should monetary policy be compared to scenario 3 (more/less)? How much unemployment would it cause compared to scenario 3 (more/less)? Why? Which part of the text can help you to answer these questions?\n"
   ]
  },
  {
   "cell_type": "markdown",
   "metadata": {},
   "source": [
    "<h2 style=\"color: #f05a5b; font-family: 'Trebuchet MS', 'Lucida Sans Unicode', sans-serif; font-weight: bold;\">\n",
    "    A Central Bank with an Explicit Loss Function and Inflation Target (of 2%): The Policy Maker's Aversion to Inflation\n",
    "</h2>"
   ]
  },
  {
   "cell_type": "markdown",
   "metadata": {},
   "source": [
    "<h3>Now that it's clear how a costly recession is necessary, we introduce the variable beta. Beta reflects the extent to which the Central Bank prioritises inflation control over growth/employment.\n",
    "</h3> "
   ]
  },
  {
   "cell_type": "markdown",
   "metadata": {},
   "source": [
    "In the previous section we saw that an oil shock implies a trade-off for the central bank between inflation and unemployment. In this section we show that the way this trade-off is dealt with depends on the central bank’s degree of inflation aversion. [The CB uses the MR curve to determine its interest rate reaction to the shock.]\n",
    "\n",
    "A benchmark is set where the central bank places the same weight on deviations of inflation from its target and of unemployment from equilibrium. [beta is equal to one in the CB’s loss function]\n"
   ]
  },
  {
   "cell_type": "code",
   "execution_count": null,
   "metadata": {},
   "outputs": [],
   "source": [
    "out3 = widgets.Output(layout={'border': '2px solid gray', 'padding': '5px 5px 5px 5px', 'margin': '0 auto 0 auto', 'max_width': '70vw'})\n",
    "display(out3)"
   ]
  },
  {
   "cell_type": "markdown",
   "metadata": {},
   "source": [
    "Fig 6"
   ]
  },
  {
   "cell_type": "code",
   "execution_count": null,
   "metadata": {},
   "outputs": [],
   "source": [
    "out3.clear_output()\n",
    "def betafunc(slider, show_benchmark):\n",
    "    # global figs, axs\n",
    "    excel2.evaluate('optimal!M3')\n",
    "    chosenrate = slider.value\n",
    "    excel2.set_value('optimal!M3', chosenrate)\n",
    "    excel2.recalculate()\n",
    "    after_policy = excel2.evaluate('optimal!A1:K30')\n",
    "    if chosenrate < 1:\n",
    "        message = \"With lower values of beta, price stability becomes less important. Therefore, the central bank implements a weaker monetary policy reaction, which has a lesser effect on unemployment at the expense of a slower correction in excess inflation.\"\n",
    "    elif chosenrate > 1:\n",
    "        message = \"With a value for beta higher than the benchmark price stability becomes more important. The central bank wants to curb excess inflation quicker, which requires a larger increase in the interest rate and, therefore, a higher short run sacrifice in terms of unemployment.\"\n",
    "    else:\n",
    "        message = ''\n",
    "    if show_benchmark:\n",
    "        PlotStuff([after_policy[:15], optimal_policy[:15]], title='', after=False, auto=False, legend=True)\n",
    "        display(widgets.HTML(f'<h3>{message}</h3>'))\n",
    "    else:\n",
    "        PlotStuff([after_policy[:15]], title='', after=False, auto=False)\n",
    "        display(widgets.HTML(f'<h3>{message}</h3>'))\n",
    "\n",
    "\n",
    "beta = widgets.FloatSlider(1, min=0.25, max=4, step=0.25, description='CB beta')\n",
    "betabenchmark = widgets.Checkbox(value=False, description='Show benchmark (beta=1)')\n",
    "betasub = widgets.Button(description='Submit')\n",
    "# outtest = widgets.interactive_output(betafunc, {'slider': beta, 'show_benchmark': benchmark})\n",
    "\n",
    "with out3:\n",
    "    out3.clear_output()\n",
    "    display(widgets.HBox((beta, betasub)))\n",
    "    display(betabenchmark)\n",
    "    betafunc(beta, betabenchmark.value)\n",
    "\n",
    "def on_beta_sub(b):\n",
    "    with out3:\n",
    "        out3.clear_output()\n",
    "        display(widgets.HBox((beta, betasub)))\n",
    "        display(betabenchmark)\n",
    "        betafunc(beta, betabenchmark.value)\n",
    "\n",
    "betasub.on_click(on_beta_sub)\n",
    "\n"
   ]
  },
  {
   "cell_type": "code",
   "execution_count": null,
   "metadata": {},
   "outputs": [],
   "source": [
    "qout4 = widgets.Output(layout={'border': '2px solid gray', 'padding': '5px 5px 5px 5px', 'margin': '0 auto 0 auto', 'max_width': '70vw'})\n",
    "qout4"
   ]
  },
  {
   "cell_type": "code",
   "execution_count": null,
   "metadata": {},
   "outputs": [],
   "source": [
    "df4 = pd.read_excel('questionsexcel.xlsx', index_col='id').iloc[2].to_frame().transpose()\n",
    "qs4 = {}\n",
    "ans4 = {}\n",
    "msgs4 = {}\n",
    "\n",
    "for i in df4.index:\n",
    "    qs4[i] = [df4.loc[i]['question'], df4.loc[i]['c1'], df4.loc[i]['c2'], df4.loc[i]['c3']]\n",
    "    ans4[i] = [df4.loc[i]['a1'], df4.loc[i]['a2'], df4.loc[i]['a3']]\n",
    "    msgs4[i] = [df4.loc[i]['message1'], df4.loc[i]['message2'], df4.loc[i]['message3']]\n",
    "\n",
    "wlist4 = {}\n",
    "for q in qs4:\n",
    "    wlist4[q] = [qs4[q][0]]\n",
    "    for i in range(1, 4):\n",
    "        wlist4[q].append(widgets.Checkbox(description=qs4[q][i], style=style, layout=widgets.Layout(min_width='min-content')))\n",
    "\n",
    "qout4.clear_output()\n",
    "sub4 = widgets.Button(description='Check my answers')\n",
    "tryagain4 = widgets.Button(description='Try Again')\n",
    "\n",
    "\n",
    "with qout4:\n",
    "    for q in wlist4:\n",
    "        display(widgets.HTML(value=f'<h4>{wlist4[q][0]}</h4>'))\n",
    "        for i in wlist4[q][1:]:\n",
    "            display(i)\n",
    "        print()\n",
    "    display(sub4)\n",
    "\n",
    "\n",
    "def on_sub4(b):\n",
    "    global ans4\n",
    "    global msgs4\n",
    "    qout4.clear_output(wait=True)\n",
    "    messages = {}\n",
    "    correct = [None, None, None]\n",
    "    answers = []\n",
    "    for q in wlist4:\n",
    "        messages[q] = []\n",
    "        for i in wlist4[q][1:]:\n",
    "            answer = i.value\n",
    "            answers.append(answer)\n",
    "        for i in range(1, 4):\n",
    "            answer = wlist4[q][i].value\n",
    "            if answer == ans4[q][i-1]:\n",
    "                messages[q].append(msgs4[q][i-1])\n",
    "                correct[i-1] = True\n",
    "            elif answer != ans4[q][i-1]:\n",
    "                messages[q].append(msgs4[q][i-1])\n",
    "                correct[i-1] = False    \n",
    "    with qout4:\n",
    "        # print('sub4mitted')\n",
    "        for q in wlist4:\n",
    "            display(widgets.HTML(value=f'<h3>{wlist4[q][0]}</h3>'))\n",
    "            for i in range(1, 4):\n",
    "                display(wlist4[q][i])\n",
    "                # if messages[q][i-1][0] == 'CORRECT':\n",
    "                #     display(widgets.HTML(f'<div style=\"background-color: rgb(161, 230, 161); max-width: fit-content;\"><p><div style=\"font-weight: bold; color: green\">{messages[q][i-1][0]}</div>{messages[q][i-1][1]}</p></div>'))\n",
    "                # else:\n",
    "                #     display(widgets.HTML(f'<div style=\"background-color: rgb(231, 151, 151); max-width: fit-content;\"><p><div style=\"font-weight: bold; color: red\">{messages[q][i-1][0]}</div>{messages[q][i-1][1]}</p></div>'))\n",
    "            # print(messages[q])\n",
    "            for i in range(3):\n",
    "                if correct[i] == False:\n",
    "                    if ans4[q][i] == True:\n",
    "                        #user did not select, but answer is True\n",
    "                        notall = True\n",
    "                    else:\n",
    "                        #user chose true, answer is false\n",
    "                        notall = False\n",
    "                        break\n",
    "            if correct == [True, True, True]:\n",
    "                # display(widgets.HTML(f'<div style=\"background-color: rgb(161, 230, 161); max-width: fit-content;\"><p>CORRECT</p><p>{messages[q]}</p></div>'))\n",
    "                display(widgets.HTML(f'<p style=\"font-weight: bold; color: green\">CORRECT</p>'))\n",
    "                for i in range(3):\n",
    "                    if ans4[q][i] == True:\n",
    "                        display(widgets.HTML(f'<p>{messages[q][i]}</p>'))\n",
    "            elif notall:\n",
    "                display(widgets.HTML(f'<p style=\"font-weight: bold;\">You haven\\'t selected all the correct answers</p>'))\n",
    "            else:\n",
    "                # display(widgets.HTML(f'<div style=\"background-color: rgb(231, 151, 151); max-width: fit-content;\"><p>INCORRECT</p>'))\n",
    "                display(widgets.HTML(f'<p style=\"font-weight: bold; color: red\">INCORRECT</p>'))\n",
    "                for i in range(3):\n",
    "                    if correct[i] == False and ans4[q][i] == False:\n",
    "                        display(widgets.HTML(f'<p>{messages[q][i]}</p>'))\n",
    "\n",
    "                # display(widgets.HTML('</div>'))\n",
    "        display(tryagain4)\n",
    "        \n",
    "\n",
    "sub4.on_click(on_sub4)\n",
    "tryagain4.on_click(on_sub4)"
   ]
  },
  {
   "cell_type": "markdown",
   "metadata": {},
   "source": [
    "<h3 style=\"color: #f05a5b; font-family: 'Trebuchet MS', 'Lucida Sans Unicode', sans-serif; font-weight: bold;\">\n",
    "   Test Yourself\n",
    "</h3>"
   ]
  },
  {
   "cell_type": "markdown",
   "metadata": {},
   "source": [
    "Compare the monetary policy reaction to the shock by two central banks with very different beta (for instance, beta=4 compared with the benchmark). Explain in words why with higher beta:\n",
    "\n",
    "a. The peaks of the interest rate and of unemployment are higher\n",
    "\n",
    "b. The central bank relaxes policy quicker and unemployment falls quicker to its new equilibrium. (hint: it has to do with inflation expectations)"
   ]
  },
  {
   "cell_type": "markdown",
   "metadata": {},
   "source": [
    "<h2 style=\"color: #f05a5b; font-family: 'Trebuchet MS', 'Lucida Sans Unicode', sans-serif; font-weight: bold;\">\n",
    "    Experimenting with Different Inflation Expectation Formation Processes: Anchoring vs Inertia\n",
    "</h2>"
   ]
  },
  {
   "cell_type": "markdown",
   "metadata": {},
   "source": [
    "<h3>Inflation recovery is not just dependent on the Central Bank's reaction. </h3> "
   ]
  },
  {
   "cell_type": "markdown",
   "metadata": {},
   "source": [
    "Households and firms' expectations about inflation affect their behaviour, and their own reaction to changing interest rates. The way these expectations are formed, and the proportion of the population who share the same expectations, shapes the economy's recovery from a shock"
   ]
  },
  {
   "cell_type": "markdown",
   "metadata": {},
   "source": [
    "To this point, inflation expectations have excluded any anchoring to the central bank’s target. Anchoring of inflation expectations relaxes the short run trade-off between inflation and unemployment that the central bank faces when dealing with an inflation shock.\n",
    "\n",
    "The case with no anchoring is set as a benchmark and it matches the cases considered in previous sections [standard PC with expected inflation equal to last period’s inflation].\n"
   ]
  },
  {
   "cell_type": "code",
   "execution_count": null,
   "metadata": {},
   "outputs": [],
   "source": [
    "excel3 = ExcelCompiler('simple sim endog cb inflation expectations.xlsx', cycles=True)"
   ]
  },
  {
   "cell_type": "code",
   "execution_count": null,
   "metadata": {},
   "outputs": [],
   "source": [
    "out4 = widgets.Output(layout={'border': '2px solid gray', 'padding': '5px 5px 5px 5px', 'margin': '0 auto 0 auto', 'max_width': '70vw'})\n",
    "display(out4)"
   ]
  },
  {
   "cell_type": "code",
   "execution_count": null,
   "metadata": {},
   "outputs": [],
   "source": [
    "out4.clear_output()\n",
    "def credfunc(slider, show_benchmark):\n",
    "    # global figs, axs\n",
    "    excel3.evaluate('optimal!M8')\n",
    "    chosenrate = slider\n",
    "    excel3.set_value('optimal!M8', chosenrate)\n",
    "    excel3.recalculate()\n",
    "    after_policy = excel3.evaluate('optimal!A1:K30')\n",
    "    if show_benchmark:\n",
    "        PlotStuff([after_policy[:15], optimal_policy[:15]], title='', after=False, auto=False, legend=True)\n",
    "    else:\n",
    "        PlotStuff([after_policy[:15]], title='', after=False, auto=False)\n",
    "\n",
    "\n",
    "cred = widgets.FloatSlider(0, min=0, max=1, step=0.25, description='Level of Anchoring')\n",
    "credbenchmark = widgets.Checkbox(value=False, description='Show benchmark (No Anchoring)')\n",
    "credsub = widgets.Button(description='Submit')\n",
    "# outcred = widgets.interactive_output(credfunc, {'slider': cred, 'show_benchmark': benchmark})\n",
    "\n",
    "\n",
    "with out4:\n",
    "    out4.clear_output()\n",
    "    display(widgets.HBox((cred, credsub)))\n",
    "    display(credbenchmark)\n",
    "    credfunc(cred.value, credbenchmark.value)\n",
    "\n",
    "def on_cred_sub(b):\n",
    "    with out4:\n",
    "        out4.clear_output()\n",
    "        display(widgets.HBox((cred, credsub)))\n",
    "        display(credbenchmark)\n",
    "        credfunc(cred.value, credbenchmark.value)\n",
    "    \n",
    "credsub.on_click(on_cred_sub)"
   ]
  },
  {
   "cell_type": "markdown",
   "metadata": {},
   "source": [
    "With higher anchoring, inflation expectations are less affected by the temporary upsurge in inflation. Therefore, the central bank needs to increase the interest rate to a lesser extent to achieve their aim of calming inflation. This results in both a lower short run increase in unemployment and a faster return of inflation to its pre-shock level. In the extreme case when there is full anchoring, the central bank just needs to adjust the interest rate to its new equilibrium level from the very onset in order to drive inflation back to its pre-shock level.\n"
   ]
  },
  {
   "cell_type": "code",
   "execution_count": null,
   "metadata": {},
   "outputs": [],
   "source": [
    "qout5 = widgets.Output(layout={'border': '2px solid gray', 'padding': '5px 5px 5px 5px', 'margin': '0 auto 0 auto', 'max_width': '70vw'})\n",
    "qout5"
   ]
  },
  {
   "cell_type": "code",
   "execution_count": null,
   "metadata": {},
   "outputs": [],
   "source": [
    "df5 = pd.read_excel('questionsexcel.xlsx', index_col='id').iloc[3].to_frame().transpose()\n",
    "qs5 = {}\n",
    "ans5 = {}\n",
    "msgs5 = {}\n",
    "\n",
    "for i in df5.index:\n",
    "    qs5[i] = [df5.loc[i]['question'], df5.loc[i]['c1'], df5.loc[i]['c2'], df5.loc[i]['c3']]\n",
    "    ans5[i] = [df5.loc[i]['a1'], df5.loc[i]['a2'], df5.loc[i]['a3']]\n",
    "    msgs5[i] = [df5.loc[i]['message1'], df5.loc[i]['message2'], df5.loc[i]['message3']]\n",
    "\n",
    "wlist5 = {}\n",
    "for q in qs5:\n",
    "    wlist5[q] = [qs5[q][0]]\n",
    "    for i in range(1, 4):\n",
    "        wlist5[q].append(widgets.Checkbox(description=qs5[q][i], style=style, layout=widgets.Layout(min_width='min-content')))\n",
    "\n",
    "qout5.clear_output()\n",
    "sub5 = widgets.Button(description='Check my answers')\n",
    "tryagain5 = widgets.Button(description='Try Again')\n",
    "\n",
    "\n",
    "with qout5:\n",
    "    for q in wlist5:\n",
    "        display(widgets.HTML(value=f'<h4>{wlist5[q][0]}</h4>'))\n",
    "        for i in wlist5[q][1:]:\n",
    "            display(i)\n",
    "        print()\n",
    "    display(sub5)\n",
    "\n",
    "\n",
    "def on_sub5(b):\n",
    "    global ans5\n",
    "    global msgs5\n",
    "    qout5.clear_output(wait=True)\n",
    "    messages = {}\n",
    "    correct = [None, None, None]\n",
    "    answers = []\n",
    "    for q in wlist5:\n",
    "        messages[q] = []\n",
    "        for i in wlist5[q][1:]:\n",
    "            answer = i.value\n",
    "            answers.append(answer)\n",
    "        for i in range(1, 4):\n",
    "            answer = wlist5[q][i].value\n",
    "            if answer == ans5[q][i-1]:\n",
    "                messages[q].append(msgs5[q][i-1])\n",
    "                correct[i-1] = True\n",
    "            elif answer != ans5[q][i-1]:\n",
    "                messages[q].append(msgs5[q][i-1])\n",
    "                correct[i-1] = False    \n",
    "    with qout5:\n",
    "        # print('sub5mitted')\n",
    "        for q in wlist5:\n",
    "            display(widgets.HTML(value=f'<h3>{wlist5[q][0]}</h3>'))\n",
    "            for i in range(1, 4):\n",
    "                display(wlist5[q][i])\n",
    "                # if messages[q][i-1][0] == 'CORRECT':\n",
    "                #     display(widgets.HTML(f'<div style=\"background-color: rgb(161, 230, 161); max-width: fit-content;\"><p><div style=\"font-weight: bold; color: green\">{messages[q][i-1][0]}</div>{messages[q][i-1][1]}</p></div>'))\n",
    "                # else:\n",
    "                #     display(widgets.HTML(f'<div style=\"background-color: rgb(231, 151, 151); max-width: fit-content;\"><p><div style=\"font-weight: bold; color: red\">{messages[q][i-1][0]}</div>{messages[q][i-1][1]}</p></div>'))\n",
    "            # print(messages[q])\n",
    "            for i in range(3):\n",
    "                if correct[i] == False:\n",
    "                    if ans5[q][i] == True:\n",
    "                        #user did not select, but answer is True\n",
    "                        notall = True\n",
    "                    else:\n",
    "                        #user chose true, answer is false\n",
    "                        notall = False\n",
    "                        break\n",
    "            if correct == [True, True, True]:\n",
    "                # display(widgets.HTML(f'<div style=\"background-color: rgb(161, 230, 161); max-width: fit-content;\"><p>CORRECT</p><p>{messages[q]}</p></div>'))\n",
    "                display(widgets.HTML(f'<p style=\"font-weight: bold; color: green\">CORRECT</p>'))\n",
    "                for i in range(3):\n",
    "                    if ans5[q][i] == True:\n",
    "                        display(widgets.HTML(f'<p>{messages[q][i]}</p>'))\n",
    "            elif notall:\n",
    "                display(widgets.HTML(f'<p style=\"font-weight: bold;\">You haven\\'t selected all the correct answers</p>'))\n",
    "            else:\n",
    "                # display(widgets.HTML(f'<div style=\"background-color: rgb(231, 151, 151); max-width: fit-content;\"><p>INCORRECT</p>'))\n",
    "                display(widgets.HTML(f'<p style=\"font-weight: bold; color: red\">INCORRECT</p>'))\n",
    "                for i in range(3):\n",
    "                    if correct[i] == False and ans5[q][i] == False:\n",
    "                        display(widgets.HTML(f'<p>{messages[q][i]}</p>'))\n",
    "\n",
    "                # display(widgets.HTML('</div>'))\n",
    "        display(tryagain5)\n",
    "        \n",
    "\n",
    "sub5.on_click(on_sub5)\n",
    "tryagain5.on_click(on_sub5)"
   ]
  },
  {
   "cell_type": "markdown",
   "metadata": {},
   "source": [
    "<h3 style=\"color: #f05a5b; font-family: 'Trebuchet MS', 'Lucida Sans Unicode', sans-serif; font-weight: bold;\">\n",
    "   Test Yourself\n",
    "</h3>"
   ]
  },
  {
   "cell_type": "markdown",
   "metadata": {},
   "source": [
    "1. Choose different levels of anchoring and notice how anchoring improves macroeconomic outcomes of monetary policy. Explain with your own words why central banks like a high level of anchoring. Speculate about how a central bank can improve the degree of anchoring.\n",
    "2. Consider the case of full anchoring (level of anchoring=1). See that the central bank increases interest rate to its new equilibrium value equal 4% and inflation falls back to the target in just one period. Now, in this context of full anchoring, speculate about the consequences for inflation and unemployment of not changing the interest rate after the shock…\n",
    "\n",
    "&ensp;&ensp;a. …first, considering that full anchoring remains.\n",
    "    \n",
    "&ensp;&ensp;b. …second, discuss whether full anchoring may be in danger if the central bank persists in its passive monetary policy and the future implications for inflation."
   ]
  },
  {
   "cell_type": "markdown",
   "metadata": {},
   "source": []
  },
  {
   "cell_type": "markdown",
   "metadata": {},
   "source": [
    "<p style=\"font-size:  x-small !important;\">Copyright (c) 2022 Neil Majithia </p>"
   ]
  },
  {
   "cell_type": "code",
   "execution_count": null,
   "metadata": {},
   "outputs": [],
   "source": [
    "gc.collect()"
   ]
  },
  {
   "cell_type": "code",
   "execution_count": null,
   "metadata": {},
   "outputs": [],
   "source": []
  }
 ],
 "metadata": {
  "kernelspec": {
   "display_name": "Python 3.10.5 64-bit",
   "language": "python",
   "name": "python3"
  },
  "language_info": {
   "codemirror_mode": {
    "name": "ipython",
    "version": 3
   },
   "file_extension": ".py",
   "mimetype": "text/x-python",
   "name": "python",
   "nbconvert_exporter": "python",
   "pygments_lexer": "ipython3",
   "version": "3.10.5"
  },
  "orig_nbformat": 4,
  "vscode": {
   "interpreter": {
    "hash": "bfb951cf4239d7e9a21639cd3f6aff722a5dd9312a453e687af2125473e9531c"
   }
  }
 },
 "nbformat": 4,
 "nbformat_minor": 2
}
